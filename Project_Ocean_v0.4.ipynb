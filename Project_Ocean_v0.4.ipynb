{
 "cells": [
  {
   "cell_type": "code",
   "execution_count": 25,
   "metadata": {},
   "outputs": [],
   "source": [
    "import pandas as pd\n",
    "import numpy as np\n",
    "import os, random\n",
    "from keras.preprocessing.image import ImageDataGenerator, array_to_img, img_to_array, load_img\n",
    "from keras.models import Sequential\n",
    "from keras.layers import Dense, Activation, Dropout, Flatten, Conv2D, MaxPooling2D\n",
    "import shutil\n",
    "from PIL import Image\n",
    "from keras import backend as K"
   ]
  },
  {
   "cell_type": "markdown",
   "metadata": {},
   "source": [
    "# Preprocessing"
   ]
  },
  {
   "cell_type": "code",
   "execution_count": 26,
   "metadata": {
    "collapsed": true
   },
   "outputs": [],
   "source": [
    "#Import labels\n",
    "l1 = pd.read_csv('label_map.txt', delim_whitespace=True, names=['Plankton', 'Index_number'])\n",
    "l1.set_index(['Index_number'], inplace=True)\n",
    "\n",
    "#Import train labels\n",
    "train_labels = pd.read_csv('train_onelabel.csv')"
   ]
  },
  {
   "cell_type": "code",
   "execution_count": 27,
   "metadata": {
    "collapsed": true
   },
   "outputs": [],
   "source": [
    "#Paths of imagery\n",
    "train_data_path = 'data/train_images'\n",
    "test_data_path = 'data/test_images'"
   ]
  },
  {
   "cell_type": "code",
   "execution_count": 28,
   "metadata": {
    "collapsed": true
   },
   "outputs": [],
   "source": [
    "#Add label names to train_labels\n",
    "labels = pd.merge(train_labels, l1, how='outer', left_on='class', right_index=True, copy=True)"
   ]
  },
  {
   "cell_type": "code",
   "execution_count": 29,
   "metadata": {
    "collapsed": true
   },
   "outputs": [],
   "source": [
    "#Set image dimensions\n",
    "img_width = 224\n",
    "img_height = 224\n",
    "\n",
    "#Paths of new folders\n",
    "train_preprocessed_path = 'data/train_processed'\n",
    "test_preprocessed_path = 'data/test_processed'"
   ]
  },
  {
   "cell_type": "code",
   "execution_count": 30,
   "metadata": {},
   "outputs": [
    {
     "name": "stdout",
     "output_type": "stream",
     "text": [
      "Number of train images: 24204\n",
      "Finished with resizing Train Data\n",
      "New image size:  224 x 224 \n",
      "\n",
      "Number of test images: 6132\n",
      "Finished with resizing Test Data\n",
      "New image size:  224 x 224\n"
     ]
    }
   ],
   "source": [
    "#Make new dirs\n",
    "os.mkdir('data/train_processed')\n",
    "os.mkdir('data/test_processed')\n",
    "\n",
    "#List directories\n",
    "train_data_listing = os.listdir(train_data_path)\n",
    "test_data_listing = os.listdir(test_data_path)\n",
    "\n",
    "print('Number of train images:', len(train_data_listing))\n",
    "\n",
    "#Resize images to 224x224 and add to path 'data/train_preprocessed'\n",
    "for file in train_data_listing:\n",
    "    im = Image.open(train_data_path + '\\\\' + file)\n",
    "    img = im.resize((img_width, img_height))\n",
    "    img.save(train_preprocessed_path + '\\\\' +file, 'JPEG')\n",
    "    \n",
    "print('Finished with resizing Train Data')\n",
    "print('New image size: ', img_width, \"x\", img_height, '\\n')\n",
    "print('Number of test images:', len(test_data_listing))\n",
    "    \n",
    "#Resize images to 224x224 and add to path 'data/test_preprocessed'\n",
    "for file in test_data_listing:\n",
    "    im = Image.open(test_data_path + '\\\\' + file)\n",
    "    img = im.resize((img_width, img_height))\n",
    "    img.save(test_preprocessed_path + '\\\\' +file, 'JPEG')\n",
    "    \n",
    "print('Finished with resizing Test Data')\n",
    "print('New image size: ', img_width, \"x\", img_height)"
   ]
  },
  {
   "cell_type": "code",
   "execution_count": 31,
   "metadata": {},
   "outputs": [
    {
     "name": "stdout",
     "output_type": "stream",
     "text": [
      "Finished with moving files to subfolders\n"
     ]
    }
   ],
   "source": [
    "#Image name and label to dictionary\n",
    "label_dict = labels.set_index('image')['Plankton'].to_dict()\n",
    "\n",
    "#Move files to subfolders\n",
    "for file in train_data_listing:\n",
    "    for key, value in label_dict.items():\n",
    "        if file == key:\n",
    "            path = os.path.join(train_preprocessed_path, value)\n",
    "            if not os.path.exists(path):\n",
    "                os.makedirs(path)\n",
    "            shutil.move(os.path.join(train_preprocessed_path, file), path)\n",
    "            \n",
    "print('Finished with moving files to subfolders')"
   ]
  },
  {
   "cell_type": "code",
   "execution_count": 32,
   "metadata": {},
   "outputs": [
    {
     "name": "stdout",
     "output_type": "stream",
     "text": [
      "Finished with creating validation split folder\n"
     ]
    }
   ],
   "source": [
    "#Specify validation split\n",
    "validation_split = 0.2\n",
    "#List Train preprocessed folder\n",
    "Train_preprocessed_listing = os.listdir(train_preprocessed_path)\n",
    "#Folder for validation split\n",
    "os.mkdir('data/validation_split')\n",
    "validation_folder = 'data/validation_split'\n",
    "#For loop for creating validation split\n",
    "for folder in Train_preprocessed_listing:\n",
    "    subfolder = os.listdir(os.path.join(train_preprocessed_path, folder))\n",
    "    num_files_in_folder = len(os.listdir(os.path.join(train_preprocessed_path, folder)))\n",
    "    validation_copy = int(np.ceil((num_files_in_folder * validation_split)))\n",
    "    for file in range(validation_copy):\n",
    "        random_file = random.choice(subfolder)\n",
    "        validation_path = os.path.join(validation_folder, folder)\n",
    "        if not os.path.exists(validation_path):\n",
    "            os.makedirs(validation_path)\n",
    "        try:\n",
    "            shutil.move(os.path.join(os.path.join(train_preprocessed_path, folder), random_file), validation_path)\n",
    "        except Exception:\n",
    "            continue\n",
    "print('Finished with creating validation split folder')"
   ]
  },
  {
   "cell_type": "markdown",
   "metadata": {},
   "source": [
    "# Test Run"
   ]
  },
  {
   "cell_type": "code",
   "execution_count": 41,
   "metadata": {
    "collapsed": true
   },
   "outputs": [],
   "source": [
    "train_datagen = ImageDataGenerator(\n",
    "        rotation_range=40,\n",
    "        width_shift_range=0.2,\n",
    "        height_shift_range=0.2,\n",
    "        rescale=1./255,\n",
    "        shear_range=0.2,\n",
    "        zoom_range=0.2,\n",
    "        horizontal_flip=True,\n",
    "        fill_mode='nearest')"
   ]
  },
  {
   "cell_type": "code",
   "execution_count": 42,
   "metadata": {},
   "outputs": [
    {
     "name": "stdout",
     "output_type": "stream",
     "text": [
      "Image shape: (224, 224, 3)\n",
      "New shape: (1, 224, 224, 3)\n"
     ]
    }
   ],
   "source": [
    "#Load one image\n",
    "img = load_img('data/train_processed/acantharia_protist_halo/4844.jpg')\n",
    "#Convert to Numpy array (xx, xx, xx)\n",
    "x = img_to_array(img)\n",
    "print('Image shape:', x.shape)\n",
    "#Numpy array with shape (1, xx, xx, xx)\n",
    "x = x.reshape((1,) + x.shape)\n",
    "#print shape\n",
    "print('New shape:', x.shape)"
   ]
  },
  {
   "cell_type": "code",
   "execution_count": 43,
   "metadata": {},
   "outputs": [
    {
     "name": "stdout",
     "output_type": "stream",
     "text": [
      "Check the new folder data\\preview for what these lines of code did\n"
     ]
    }
   ],
   "source": [
    "#Create test images for preview\n",
    "i = 0\n",
    "for batch in train_datagen.flow(x, batch_size=1, save_to_dir='data/preview', save_prefix='acantharia_protist_halo', save_format='jpeg'):\n",
    "    i += 1\n",
    "    if i > 20:\n",
    "        break\n",
    "        \n",
    "print('Check the new folder data\\preview for what these lines of code did')"
   ]
  },
  {
   "cell_type": "markdown",
   "metadata": {},
   "source": [
    "# First Keras model run"
   ]
  },
  {
   "cell_type": "code",
   "execution_count": 52,
   "metadata": {
    "collapsed": true
   },
   "outputs": [],
   "source": [
    "#Parameters\n",
    "nb_train_samples = 2000\n",
    "nb_validation_samples = 800\n",
    "epochs = 50\n",
    "batch_size = 16"
   ]
  },
  {
   "cell_type": "code",
   "execution_count": 53,
   "metadata": {
    "collapsed": true
   },
   "outputs": [],
   "source": [
    "#Prepare data\n",
    "if K.image_data_format() == 'channels_first':\n",
    "    input_shape = (3, img_width, img_height)\n",
    "else:\n",
    "    input_shape = (img_width, img_height, 3)"
   ]
  },
  {
   "cell_type": "code",
   "execution_count": 54,
   "metadata": {
    "collapsed": true
   },
   "outputs": [],
   "source": [
    "#Build model\n",
    "model = Sequential()\n",
    "model.add(Conv2D(32, (3, 3), input_shape=input_shape))\n",
    "model.add(Activation('relu'))\n",
    "model.add(MaxPooling2D(pool_size=(2, 2)))\n",
    "\n",
    "model.add(Conv2D(32, (3, 3)))\n",
    "model.add(Activation('relu'))\n",
    "model.add(MaxPooling2D(pool_size=(2, 2)))\n",
    "\n",
    "model.add(Conv2D(64, (3, 3)))\n",
    "model.add(Activation('relu'))\n",
    "model.add(MaxPooling2D(pool_size=(2, 2)))\n",
    "\n",
    "model.add(Flatten())  # this converts our 3D feature maps to 1D feature vectors\n",
    "model.add(Dense(64))\n",
    "model.add(Activation('relu'))\n",
    "model.add(Dropout(0.5))\n",
    "model.add(Dense(1))\n",
    "model.add(Activation('sigmoid'))\n",
    "model.compile(loss='binary_crossentropy', optimizer='rmsprop', metrics=['accuracy'])"
   ]
  },
  {
   "cell_type": "code",
   "execution_count": 55,
   "metadata": {
    "collapsed": true
   },
   "outputs": [],
   "source": [
    "train_datagen = ImageDataGenerator(\n",
    "    rescale=1. / 255,\n",
    "    shear_range=0.2,\n",
    "    zoom_range=0.2,\n",
    "    horizontal_flip=True)"
   ]
  },
  {
   "cell_type": "code",
   "execution_count": 56,
   "metadata": {},
   "outputs": [
    {
     "name": "stdout",
     "output_type": "stream",
     "text": [
      "Found 19730 images belonging to 121 classes.\n"
     ]
    }
   ],
   "source": [
    "train_generator = train_datagen.flow_from_directory(\n",
    "    train_preprocessed_path,\n",
    "    target_size=(img_width, img_height),\n",
    "    batch_size=batch_size,\n",
    "    class_mode='binary')"
   ]
  },
  {
   "cell_type": "code",
   "execution_count": 57,
   "metadata": {
    "collapsed": true
   },
   "outputs": [],
   "source": [
    "test_datagen = ImageDataGenerator(rescale=1. / 255)"
   ]
  },
  {
   "cell_type": "code",
   "execution_count": 58,
   "metadata": {},
   "outputs": [
    {
     "name": "stdout",
     "output_type": "stream",
     "text": [
      "Found 4474 images belonging to 121 classes.\n"
     ]
    }
   ],
   "source": [
    "validation_generator = test_datagen.flow_from_directory(\n",
    "    validation_folder,\n",
    "    target_size=(img_width, img_height),\n",
    "    batch_size=batch_size,\n",
    "    class_mode='binary')"
   ]
  },
  {
   "cell_type": "code",
   "execution_count": null,
   "metadata": {},
   "outputs": [
    {
     "name": "stdout",
     "output_type": "stream",
     "text": [
      "Epoch 1/50\n",
      "125/125 [==============================] - 207s 2s/step - loss: -890.6794 - acc: 0.0015 - val_loss: -869.4578 - val_acc: 0.0000e+00\n",
      "Epoch 2/50\n",
      " 10/125 [=>............................] - ETA: 3:42 - loss: -855.9068 - acc: 0.0000e+00"
     ]
    }
   ],
   "source": [
    "model.fit_generator(\n",
    "    train_generator,\n",
    "    steps_per_epoch=nb_train_samples // batch_size,\n",
    "    epochs=epochs,\n",
    "    validation_data=validation_generator,\n",
    "    validation_steps=nb_validation_samples // batch_size)\n",
    "\n",
    "model.save_weights('first_try.h5')"
   ]
  },
  {
   "cell_type": "code",
   "execution_count": null,
   "metadata": {
    "collapsed": true
   },
   "outputs": [],
   "source": []
  },
  {
   "cell_type": "code",
   "execution_count": null,
   "metadata": {
    "collapsed": true
   },
   "outputs": [],
   "source": []
  },
  {
   "cell_type": "code",
   "execution_count": null,
   "metadata": {
    "collapsed": true
   },
   "outputs": [],
   "source": []
  }
 ],
 "metadata": {
  "kernelspec": {
   "display_name": "py35",
   "language": "python",
   "name": "py35"
  },
  "language_info": {
   "codemirror_mode": {
    "name": "ipython",
    "version": 3
   },
   "file_extension": ".py",
   "mimetype": "text/x-python",
   "name": "python",
   "nbconvert_exporter": "python",
   "pygments_lexer": "ipython3",
   "version": "3.5.4"
  }
 },
 "nbformat": 4,
 "nbformat_minor": 2
}
