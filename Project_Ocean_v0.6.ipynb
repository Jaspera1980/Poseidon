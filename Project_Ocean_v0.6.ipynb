{
 "cells": [
  {
   "cell_type": "code",
   "execution_count": 1,
   "metadata": {},
   "outputs": [
    {
     "name": "stderr",
     "output_type": "stream",
     "text": [
      "Using TensorFlow backend.\n"
     ]
    }
   ],
   "source": [
    "import pandas as pd\n",
    "import numpy as np\n",
    "import os, random\n",
    "from keras.preprocessing.image import ImageDataGenerator, array_to_img, img_to_array, load_img\n",
    "from keras.models import Sequential\n",
    "from keras.layers import Dense, Activation, Dropout, Flatten, Conv2D, MaxPooling2D\n",
    "import shutil\n",
    "from PIL import Image\n",
    "from keras import backend as K"
   ]
  },
  {
   "cell_type": "markdown",
   "metadata": {},
   "source": [
    "# Preprocessing"
   ]
  },
  {
   "cell_type": "code",
   "execution_count": 2,
   "metadata": {
    "collapsed": true
   },
   "outputs": [],
   "source": [
    "#Import labels\n",
    "l1 = pd.read_csv('label_map.txt', delim_whitespace=True, names=['Plankton', 'Index_number'])\n",
    "l1.set_index(['Index_number'], inplace=True)\n",
    "\n",
    "#Import train labels\n",
    "train_labels = pd.read_csv('train_onelabel.csv')"
   ]
  },
  {
   "cell_type": "code",
   "execution_count": 3,
   "metadata": {
    "collapsed": true
   },
   "outputs": [],
   "source": [
    "#Paths of imagery\n",
    "train_data_path = 'data/train_images'\n",
    "test_data_path = 'data/test_images'"
   ]
  },
  {
   "cell_type": "code",
   "execution_count": 4,
   "metadata": {
    "collapsed": true
   },
   "outputs": [],
   "source": [
    "#Add label names to train_labels\n",
    "labels = pd.merge(train_labels, l1, how='outer', left_on='class', right_index=True, copy=True)"
   ]
  },
  {
   "cell_type": "code",
   "execution_count": 5,
   "metadata": {
    "collapsed": true
   },
   "outputs": [],
   "source": [
    "#Set image dimensions\n",
    "img_width = 95\n",
    "img_height = 95"
   ]
  },
  {
   "cell_type": "code",
   "execution_count": 6,
   "metadata": {},
   "outputs": [],
   "source": [
    "#List directories\n",
    "train_data_listing = os.listdir(train_data_path)\n",
    "test_data_listing = os.listdir(test_data_path)"
   ]
  },
  {
   "cell_type": "code",
   "execution_count": 33,
   "metadata": {},
   "outputs": [
    {
     "name": "stdout",
     "output_type": "stream",
     "text": [
      "Finished with moving files to subfolders\n"
     ]
    }
   ],
   "source": [
    "#Image name and label to dictionary\n",
    "label_dict = labels.set_index('image')['Plankton'].to_dict()\n",
    "\n",
    "#Move files to subfolders\n",
    "for file in train_data_listing:\n",
    "    for key, value in label_dict.items():\n",
    "        if file == key:\n",
    "            path = os.path.join(train_data_path, value)\n",
    "            if not os.path.exists(path):\n",
    "                os.makedirs(path)\n",
    "            shutil.move(os.path.join(train_data_path, file), path)\n",
    "            \n",
    "print('Finished with moving files to subfolders')"
   ]
  },
  {
   "cell_type": "code",
   "execution_count": 34,
   "metadata": {},
   "outputs": [
    {
     "name": "stdout",
     "output_type": "stream",
     "text": [
      "Finished with creating validation split folder\n"
     ]
    }
   ],
   "source": [
    "#Specify validation split\n",
    "validation_split = 0.2\n",
    "#Folder for validation split\n",
    "os.mkdir('data/validation_split')\n",
    "validation_folder = 'data/validation_split'\n",
    "#Relist new folder structure\n",
    "train_data_listing = os.listdir(train_data_path)\n",
    "#For loop for creating validation split\n",
    "for folder in train_data_listing:\n",
    "    subfolder = os.listdir(os.path.join(train_data_path, folder))\n",
    "    num_files_in_folder = len(subfolder)\n",
    "    validation_copy = int(np.ceil((num_files_in_folder * validation_split)))\n",
    "    for file in range(validation_copy):\n",
    "        random_file = random.choice(subfolder)\n",
    "        validation_path = os.path.join(validation_folder, folder)\n",
    "        if not os.path.exists(validation_path):\n",
    "            os.makedirs(validation_path)\n",
    "        try:\n",
    "            shutil.move(os.path.join(os.path.join(train_data_path, folder), random_file), validation_path)\n",
    "        except Exception:\n",
    "            continue\n",
    "print('Finished with creating validation split folder')"
   ]
  },
  {
   "cell_type": "markdown",
   "metadata": {},
   "source": [
    "# Test Run"
   ]
  },
  {
   "cell_type": "code",
   "execution_count": 35,
   "metadata": {
    "collapsed": true
   },
   "outputs": [],
   "source": [
    "train_datagen = ImageDataGenerator(\n",
    "        rotation_range=40,\n",
    "        width_shift_range=0.2,\n",
    "        height_shift_range=0.2,\n",
    "        rescale=1./255,\n",
    "        shear_range=0.2,\n",
    "        zoom_range=0.2,\n",
    "        horizontal_flip=True,\n",
    "        fill_mode='nearest')"
   ]
  },
  {
   "cell_type": "code",
   "execution_count": 36,
   "metadata": {},
   "outputs": [
    {
     "name": "stdout",
     "output_type": "stream",
     "text": [
      "Image shape: (72, 70, 3)\n",
      "New shape: (1, 72, 70, 3)\n"
     ]
    }
   ],
   "source": [
    "#Load one image\n",
    "img = load_img('data/train_images/acantharia_protist_halo/4844.jpg')\n",
    "#Convert to Numpy array (xx, xx, xx)\n",
    "x = img_to_array(img)\n",
    "print('Image shape:', x.shape)\n",
    "#Numpy array with shape (1, xx, xx, xx)\n",
    "x = x.reshape((1,) + x.shape)\n",
    "#print shape\n",
    "print('New shape:', x.shape)"
   ]
  },
  {
   "cell_type": "code",
   "execution_count": 37,
   "metadata": {},
   "outputs": [
    {
     "name": "stdout",
     "output_type": "stream",
     "text": [
      "Check the new folder data\\preview for what these lines of code did\n"
     ]
    }
   ],
   "source": [
    "#Create test images for preview\n",
    "os.mkdir('data/preview')\n",
    "i = 0\n",
    "for batch in train_datagen.flow(x, batch_size=1, save_to_dir='data/preview', save_prefix='acantharia_protist_halo', save_format='jpeg'):\n",
    "    i += 1\n",
    "    if i > 20:\n",
    "        break\n",
    "        \n",
    "print('Check the new folder data\\preview for what these lines of code did')"
   ]
  },
  {
   "cell_type": "markdown",
   "metadata": {},
   "source": [
    "# First Keras model run"
   ]
  },
  {
   "cell_type": "code",
   "execution_count": 215,
   "metadata": {
    "collapsed": true
   },
   "outputs": [],
   "source": [
    "#Parameters\n",
    "nb_train_samples = 2000\n",
    "nb_validation_samples = 800\n",
    "epochs = 25\n",
    "batch_size = 32\n",
    "\n",
    "#Set image dimensions\n",
    "img_width = 95\n",
    "img_height = 95"
   ]
  },
  {
   "cell_type": "code",
   "execution_count": 216,
   "metadata": {
    "collapsed": true
   },
   "outputs": [],
   "source": [
    "#Prepare data\n",
    "if K.image_data_format() == 'channels_first':\n",
    "    input_shape = (3, img_width, img_height)\n",
    "else:\n",
    "    input_shape = (img_width, img_height, 3)"
   ]
  },
  {
   "cell_type": "code",
   "execution_count": 217,
   "metadata": {},
   "outputs": [
    {
     "data": {
      "text/plain": [
       "(95, 95, 3)"
      ]
     },
     "execution_count": 217,
     "metadata": {},
     "output_type": "execute_result"
    }
   ],
   "source": [
    "input_shape"
   ]
  },
  {
   "cell_type": "code",
   "execution_count": 218,
   "metadata": {},
   "outputs": [],
   "source": [
    "from keras.layers.advanced_activations import LeakyReLU\n",
    "\n",
    "#Build model\n",
    "model = Sequential()\n",
    "#cyclic slice\n",
    "model.add(Conv2D(32, (3, 3), input_shape=input_shape))\n",
    "model.add(LeakyReLU(alpha=1/3))\n",
    "model.add(Conv2D(16, (3, 3)))\n",
    "model.add(LeakyReLU(alpha=1/3))\n",
    "model.add(MaxPooling2D(pool_size=(3, 3), strides=2))\n",
    "\n",
    "#Cyclic roll\n",
    "model.add(Conv2D(64, (3, 3)))\n",
    "model.add(LeakyReLU(alpha=1/3))\n",
    "model.add(Conv2D(32, (3, 3)))\n",
    "model.add(LeakyReLU(alpha=1/3))\n",
    "model.add(MaxPooling2D(pool_size=(3, 3), strides=2))\n",
    "\n",
    "#Cyclic roll\n",
    "model.add(Conv2D(128, (3, 3)))\n",
    "model.add(LeakyReLU(alpha=1/3))\n",
    "model.add(Conv2D(128, (3, 3)))\n",
    "model.add(LeakyReLU(alpha=1/3))\n",
    "model.add(Conv2D(64, (3, 3)))\n",
    "model.add(LeakyReLU(alpha=1/3))\n",
    "model.add(MaxPooling2D(pool_size=(3, 3), strides=2))   \n",
    "\n",
    "#Cyclic roll\n",
    "model.add(Conv2D(256, (3, 3)))\n",
    "model.add(LeakyReLU(alpha=1/3))\n",
    "#model.add(Conv2D(256, (3, 3)))\n",
    "#model.add(LeakyReLU(alpha=1/3))\n",
    "#model.add(Conv2D(128, (3, 3)))\n",
    "#model.add(LeakyReLU(alpha=1/3))\n",
    "model.add(MaxPooling2D(pool_size=(3, 3), strides=2))\n",
    "\n",
    "#Cyclic roll\n",
    "model.add(Flatten())\n",
    "model.add(Dense(512))\n",
    "model.add(LeakyReLU(alpha=1/3))\n",
    "\n",
    "#cyclic pooling(rms)\n",
    "model.add(Dense(512))\n",
    "model.add(LeakyReLU(alpha=1/3))\n",
    "model.add(Dense(512))\n",
    "model.add(LeakyReLU(alpha=1/3))\n",
    "model.add(Dense(1))\n",
    "model.add(Activation('softmax'))\n",
    "\n",
    "model.compile(loss='binary_crossentropy', optimizer='sgd', metrics=['accuracy'])"
   ]
  },
  {
   "cell_type": "code",
   "execution_count": 219,
   "metadata": {},
   "outputs": [],
   "source": [
    "train_datagen = ImageDataGenerator(\n",
    "        rotation_range=360,\n",
    "        rescale=1./1.6,\n",
    "        shear_range=0.2,\n",
    "        channel_shift_range=10,\n",
    "        zoom_range=0.2,\n",
    "        horizontal_flip=True)"
   ]
  },
  {
   "cell_type": "code",
   "execution_count": 220,
   "metadata": {},
   "outputs": [
    {
     "name": "stdout",
     "output_type": "stream",
     "text": [
      "Found 19782 images belonging to 121 classes.\n"
     ]
    }
   ],
   "source": [
    "train_generator = train_datagen.flow_from_directory(\n",
    "    train_data_path,\n",
    "    target_size=(img_width, img_height),\n",
    "    batch_size=batch_size,\n",
    "    class_mode='binary')"
   ]
  },
  {
   "cell_type": "code",
   "execution_count": 221,
   "metadata": {
    "collapsed": true
   },
   "outputs": [],
   "source": [
    "test_datagen = ImageDataGenerator(rescale=1. / 255)"
   ]
  },
  {
   "cell_type": "code",
   "execution_count": 222,
   "metadata": {},
   "outputs": [
    {
     "name": "stdout",
     "output_type": "stream",
     "text": [
      "Found 4422 images belonging to 121 classes.\n"
     ]
    }
   ],
   "source": [
    "validation_folder = 'data/validation_split'\n",
    "validation_generator = test_datagen.flow_from_directory(\n",
    "    validation_folder,\n",
    "    target_size=(img_width, img_height),\n",
    "    batch_size=batch_size,\n",
    "    class_mode='binary')"
   ]
  },
  {
   "cell_type": "code",
   "execution_count": 223,
   "metadata": {},
   "outputs": [
    {
     "name": "stdout",
     "output_type": "stream",
     "text": [
      "Epoch 1/25\n",
      "62/62 [==============================] - 128s 2s/step - loss: -899.4350 - acc: 0.0010 - val_loss: -891.2590 - val_acc: 0.0000e+00\n",
      "Epoch 2/25\n",
      "62/62 [==============================] - 125s 2s/step - loss: -881.7489 - acc: 0.0000e+00 - val_loss: -891.2590 - val_acc: 0.0000e+00\n",
      "Epoch 3/25\n",
      "62/62 [==============================] - 123s 2s/step - loss: -860.3986 - acc: 0.0000e+00 - val_loss: -891.2590 - val_acc: 0.0000e+00\n",
      "Epoch 4/25\n",
      "62/62 [==============================] - 122s 2s/step - loss: -856.3407 - acc: 0.0000e+00 - val_loss: -891.2590 - val_acc: 0.0000e+00\n",
      "Epoch 5/25\n",
      "62/62 [==============================] - 120s 2s/step - loss: -877.6792 - acc: 0.0010 - val_loss: -891.2590 - val_acc: 0.0000e+00\n",
      "Epoch 6/25\n",
      "62/62 [==============================] - 122s 2s/step - loss: -880.2784 - acc: 5.0403e-04 - val_loss: -891.2590 - val_acc: 0.0000e+00\n",
      "Epoch 7/25\n",
      "62/62 [==============================] - 122s 2s/step - loss: -849.5748 - acc: 5.0403e-04 - val_loss: -891.2590 - val_acc: 0.0000e+00\n",
      "Epoch 8/25\n",
      "62/62 [==============================] - 122s 2s/step - loss: -882.8095 - acc: 0.0000e+00 - val_loss: -891.2590 - val_acc: 0.0000e+00\n",
      "Epoch 9/25\n",
      "62/62 [==============================] - 122s 2s/step - loss: -864.8503 - acc: 0.0000e+00 - val_loss: -891.2590 - val_acc: 0.0000e+00\n",
      "Epoch 10/25\n",
      "62/62 [==============================] - 122s 2s/step - loss: -883.5488 - acc: 5.0403e-04 - val_loss: -891.2590 - val_acc: 0.0000e+00\n",
      "Epoch 11/25\n",
      "62/62 [==============================] - 120s 2s/step - loss: -872.3383 - acc: 5.0414e-04 - val_loss: -891.2590 - val_acc: 0.0000e+00\n",
      "Epoch 12/25\n",
      "62/62 [==============================] - 122s 2s/step - loss: -873.7777 - acc: 0.0000e+00 - val_loss: -891.2590 - val_acc: 0.0000e+00\n",
      "Epoch 13/25\n",
      "62/62 [==============================] - 122s 2s/step - loss: -872.9741 - acc: 5.0403e-04 - val_loss: -891.2590 - val_acc: 0.0000e+00\n",
      "Epoch 14/25\n",
      "62/62 [==============================] - 122s 2s/step - loss: -880.1177 - acc: 0.0000e+00 - val_loss: -891.2590 - val_acc: 0.0000e+00\n",
      "Epoch 15/25\n",
      "62/62 [==============================] - 126s 2s/step - loss: -864.5610 - acc: 0.0000e+00 - val_loss: -891.2590 - val_acc: 0.0000e+00\n",
      "Epoch 16/25\n",
      "62/62 [==============================] - 144s 2s/step - loss: -896.8154 - acc: 5.0403e-04 - val_loss: -891.2590 - val_acc: 0.0000e+00\n",
      "Epoch 17/25\n",
      "62/62 [==============================] - 126s 2s/step - loss: -872.3313 - acc: 0.0000e+00 - val_loss: -891.2590 - val_acc: 0.0000e+00\n",
      "Epoch 18/25\n",
      "62/62 [==============================] - 128s 2s/step - loss: -867.8957 - acc: 0.0015 - val_loss: -891.2590 - val_acc: 0.0000e+00\n",
      "Epoch 19/25\n",
      "62/62 [==============================] - 128s 2s/step - loss: -870.5796 - acc: 0.0000e+00 - val_loss: -891.2590 - val_acc: 0.0000e+00\n",
      "Epoch 20/25\n",
      "62/62 [==============================] - 129s 2s/step - loss: -865.4368 - acc: 5.0403e-04 - val_loss: -891.2590 - val_acc: 0.0000e+00\n",
      "Epoch 21/25\n",
      "62/62 [==============================] - 127s 2s/step - loss: -888.5228 - acc: 0.0015 - val_loss: -891.2590 - val_acc: 0.0000e+00\n",
      "Epoch 22/25\n",
      "62/62 [==============================] - 123s 2s/step - loss: -872.1143 - acc: 0.0010 - val_loss: -891.2590 - val_acc: 0.0000e+00\n",
      "Epoch 23/25\n",
      "62/62 [==============================] - 129s 2s/step - loss: -892.9905 - acc: 0.0000e+00 - val_loss: -891.2590 - val_acc: 0.0000e+00\n",
      "Epoch 24/25\n",
      "62/62 [==============================] - 124s 2s/step - loss: -858.9442 - acc: 0.0000e+00 - val_loss: -891.2590 - val_acc: 0.0000e+00\n",
      "Epoch 25/25\n",
      "62/62 [==============================] - 125s 2s/step - loss: -857.2246 - acc: 0.0000e+00 - val_loss: -891.2590 - val_acc: 0.0000e+00\n"
     ]
    }
   ],
   "source": [
    "model.fit_generator(\n",
    "    train_generator,\n",
    "    steps_per_epoch=nb_train_samples // batch_size,\n",
    "    epochs=epochs,\n",
    "    validation_data=validation_generator,\n",
    "    validation_steps=nb_validation_samples // batch_size)\n",
    "\n",
    "model.save_weights('first_try.h5')"
   ]
  },
  {
   "cell_type": "code",
   "execution_count": 7,
   "metadata": {},
   "outputs": [
    {
     "ename": "ImportError",
     "evalue": "No module named 'PyTables'",
     "output_type": "error",
     "traceback": [
      "\u001b[1;31m---------------------------------------------------------------------------\u001b[0m",
      "\u001b[1;31mImportError\u001b[0m                               Traceback (most recent call last)",
      "\u001b[1;32m<ipython-input-7-462b795853de>\u001b[0m in \u001b[0;36m<module>\u001b[1;34m()\u001b[0m\n\u001b[0;32m      1\u001b[0m \u001b[1;32mimport\u001b[0m \u001b[0mh5py\u001b[0m\u001b[1;33m\u001b[0m\u001b[0m\n\u001b[1;32m----> 2\u001b[1;33m \u001b[1;32mimport\u001b[0m \u001b[0mPyTables\u001b[0m\u001b[1;33m\u001b[0m\u001b[0m\n\u001b[0m\u001b[0;32m      3\u001b[0m \u001b[1;33m\u001b[0m\u001b[0m\n\u001b[0;32m      4\u001b[0m \u001b[0mpd\u001b[0m\u001b[1;33m.\u001b[0m\u001b[0mread_hdf\u001b[0m\u001b[1;33m(\u001b[0m\u001b[1;34m'first_try.h5'\u001b[0m\u001b[1;33m)\u001b[0m\u001b[1;33m\u001b[0m\u001b[0m\n",
      "\u001b[1;31mImportError\u001b[0m: No module named 'PyTables'"
     ]
    }
   ],
   "source": [
    "import h5py\n",
    "import PyTables\n",
    "\n",
    "pd.read_hdf('first_try.h5')"
   ]
  },
  {
   "cell_type": "code",
   "execution_count": null,
   "metadata": {
    "collapsed": true
   },
   "outputs": [],
   "source": []
  }
 ],
 "metadata": {
  "kernelspec": {
   "display_name": "py35",
   "language": "python",
   "name": "py35"
  },
  "language_info": {
   "codemirror_mode": {
    "name": "ipython",
    "version": 3
   },
   "file_extension": ".py",
   "mimetype": "text/x-python",
   "name": "python",
   "nbconvert_exporter": "python",
   "pygments_lexer": "ipython3",
   "version": "3.5.4"
  }
 },
 "nbformat": 4,
 "nbformat_minor": 2
}
