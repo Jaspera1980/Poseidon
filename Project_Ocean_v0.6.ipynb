{
 "cells": [
  {
   "cell_type": "code",
   "execution_count": 1,
   "metadata": {},
   "outputs": [
    {
     "name": "stderr",
     "output_type": "stream",
     "text": [
      "Using TensorFlow backend.\n"
     ]
    }
   ],
   "source": [
    "import pandas as pd\n",
    "import numpy as np\n",
    "import os, random\n",
    "from keras.preprocessing.image import ImageDataGenerator, array_to_img, img_to_array, load_img\n",
    "from keras.models import Sequential\n",
    "from keras.layers import Dense, Activation, Dropout, Flatten, Conv2D, MaxPooling2D\n",
    "import shutil\n",
    "from PIL import Image\n",
    "from keras import backend as K"
   ]
  },
  {
   "cell_type": "markdown",
   "metadata": {},
   "source": [
    "# Preprocessing"
   ]
  },
  {
   "cell_type": "code",
   "execution_count": 2,
   "metadata": {
    "collapsed": true
   },
   "outputs": [],
   "source": [
    "#Import labels\n",
    "l1 = pd.read_csv('label_map.txt', delim_whitespace=True, names=['Plankton', 'Index_number'])\n",
    "l1.set_index(['Index_number'], inplace=True)\n",
    "\n",
    "#Import train labels\n",
    "train_labels = pd.read_csv('train_onelabel.csv')"
   ]
  },
  {
   "cell_type": "code",
   "execution_count": 3,
   "metadata": {
    "collapsed": true
   },
   "outputs": [],
   "source": [
    "#Paths of imagery\n",
    "train_data_path = 'data/train_images'\n",
    "test_data_path = 'data/test_images'"
   ]
  },
  {
   "cell_type": "code",
   "execution_count": 4,
   "metadata": {
    "collapsed": true
   },
   "outputs": [],
   "source": [
    "#Add label names to train_labels\n",
    "labels = pd.merge(train_labels, l1, how='outer', left_on='class', right_index=True, copy=True)"
   ]
  },
  {
   "cell_type": "code",
   "execution_count": 5,
   "metadata": {
    "collapsed": true
   },
   "outputs": [],
   "source": [
    "#Set image dimensions\n",
    "img_width = 95\n",
    "img_height = 95"
   ]
  },
  {
   "cell_type": "code",
   "execution_count": 6,
   "metadata": {
    "collapsed": true
   },
   "outputs": [],
   "source": [
    "#List directories\n",
    "train_data_listing = os.listdir(train_data_path)\n",
    "test_data_listing = os.listdir(test_data_path)"
   ]
  },
  {
   "cell_type": "code",
   "execution_count": 33,
   "metadata": {},
   "outputs": [
    {
     "name": "stdout",
     "output_type": "stream",
     "text": [
      "Finished with moving files to subfolders\n"
     ]
    }
   ],
   "source": [
    "#Image name and label to dictionary\n",
    "label_dict = labels.set_index('image')['Plankton'].to_dict()\n",
    "\n",
    "#Move files to subfolders\n",
    "for file in train_data_listing:\n",
    "    for key, value in label_dict.items():\n",
    "        if file == key:\n",
    "            path = os.path.join(train_data_path, value)\n",
    "            if not os.path.exists(path):\n",
    "                os.makedirs(path)\n",
    "            shutil.move(os.path.join(train_data_path, file), path)\n",
    "            \n",
    "print('Finished with moving files to subfolders')"
   ]
  },
  {
   "cell_type": "code",
   "execution_count": 34,
   "metadata": {},
   "outputs": [
    {
     "name": "stdout",
     "output_type": "stream",
     "text": [
      "Finished with creating validation split folder\n"
     ]
    }
   ],
   "source": [
    "#Specify validation split\n",
    "validation_split = 0.2\n",
    "#Folder for validation split\n",
    "os.mkdir('data/validation_split')\n",
    "validation_folder = 'data/validation_split'\n",
    "#Relist new folder structure\n",
    "train_data_listing = os.listdir(train_data_path)\n",
    "#For loop for creating validation split\n",
    "for folder in train_data_listing:\n",
    "    subfolder = os.listdir(os.path.join(train_data_path, folder))\n",
    "    num_files_in_folder = len(subfolder)\n",
    "    validation_copy = int(np.ceil((num_files_in_folder * validation_split)))\n",
    "    for file in range(validation_copy):\n",
    "        random_file = random.choice(subfolder)\n",
    "        validation_path = os.path.join(validation_folder, folder)\n",
    "        if not os.path.exists(validation_path):\n",
    "            os.makedirs(validation_path)\n",
    "        try:\n",
    "            shutil.move(os.path.join(os.path.join(train_data_path, folder), random_file), validation_path)\n",
    "        except Exception:\n",
    "            continue\n",
    "print('Finished with creating validation split folder')"
   ]
  },
  {
   "cell_type": "markdown",
   "metadata": {},
   "source": [
    "# Test Run"
   ]
  },
  {
   "cell_type": "code",
   "execution_count": 7,
   "metadata": {
    "collapsed": true
   },
   "outputs": [],
   "source": [
    "train_datagen = ImageDataGenerator(\n",
    "        rotation_range=40,\n",
    "        width_shift_range=0.2,\n",
    "        height_shift_range=0.2,\n",
    "        rescale=1./255,\n",
    "        shear_range=0.2,\n",
    "        zoom_range=0.2,\n",
    "        horizontal_flip=True,\n",
    "        fill_mode='nearest')"
   ]
  },
  {
   "cell_type": "code",
   "execution_count": 8,
   "metadata": {},
   "outputs": [
    {
     "name": "stdout",
     "output_type": "stream",
     "text": [
      "Image shape: (72, 70, 3)\n",
      "New shape: (1, 72, 70, 3)\n"
     ]
    }
   ],
   "source": [
    "#Load one image\n",
    "img = load_img('data/train_images/acantharia_protist_halo/4844.jpg')\n",
    "#Convert to Numpy array (xx, xx, xx)\n",
    "x = img_to_array(img)\n",
    "print('Image shape:', x.shape)\n",
    "#Numpy array with shape (1, xx, xx, xx)\n",
    "x = x.reshape((1,) + x.shape)\n",
    "#print shape\n",
    "print('New shape:', x.shape)"
   ]
  },
  {
   "cell_type": "code",
   "execution_count": 10,
   "metadata": {},
   "outputs": [
    {
     "name": "stdout",
     "output_type": "stream",
     "text": [
      "Check the new folder data\\preview for what these lines of code did\n"
     ]
    }
   ],
   "source": [
    "#Create test images for preview\n",
    "os.mkdir('data/preview')\n",
    "i = 0\n",
    "for batch in train_datagen.flow(x, batch_size=1, save_to_dir='data/preview', save_prefix='acantharia_protist_halo', save_format='jpeg'):\n",
    "    i += 1\n",
    "    if i > 20:\n",
    "        break\n",
    "        \n",
    "print('Check the new folder data\\preview for what these lines of code did')"
   ]
  },
  {
   "cell_type": "markdown",
   "metadata": {},
   "source": [
    "# First Keras model run"
   ]
  },
  {
   "cell_type": "code",
   "execution_count": 7,
   "metadata": {
    "collapsed": true
   },
   "outputs": [],
   "source": [
    "#Parameters\n",
    "nb_train_samples = 2000\n",
    "nb_validation_samples = 800\n",
    "epochs = 360\n",
    "batch_size = 32\n",
    "\n",
    "#Set image dimensions\n",
    "img_width = 95\n",
    "img_height = 95"
   ]
  },
  {
   "cell_type": "code",
   "execution_count": 8,
   "metadata": {
    "collapsed": true
   },
   "outputs": [],
   "source": [
    "#Prepare data\n",
    "if K.image_data_format() == 'channels_first':\n",
    "    input_shape = (3, img_width, img_height)\n",
    "else:\n",
    "    input_shape = (img_width, img_height, 3)"
   ]
  },
  {
   "cell_type": "code",
   "execution_count": 9,
   "metadata": {},
   "outputs": [
    {
     "data": {
      "text/plain": [
       "(95, 95, 3)"
      ]
     },
     "execution_count": 9,
     "metadata": {},
     "output_type": "execute_result"
    }
   ],
   "source": [
    "input_shape"
   ]
  },
  {
   "cell_type": "code",
   "execution_count": 10,
   "metadata": {
    "collapsed": true
   },
   "outputs": [],
   "source": [
    "from keras.layers.advanced_activations import LeakyReLU\n",
    "\n",
    "#Build model\n",
    "model = Sequential()\n",
    "#cyclic slice\n",
    "model.add(Conv2D(32, (3, 3), input_shape=input_shape))\n",
    "model.add(LeakyReLU(alpha=1/3))\n",
    "model.add(Conv2D(16, (3, 3)))\n",
    "model.add(LeakyReLU(alpha=1/3))\n",
    "model.add(MaxPooling2D(pool_size=(3, 3), strides=2))\n",
    "\n",
    "#Cyclic roll\n",
    "model.add(Conv2D(64, (3, 3)))\n",
    "model.add(LeakyReLU(alpha=1/3))\n",
    "model.add(Conv2D(32, (3, 3)))\n",
    "model.add(LeakyReLU(alpha=1/3))\n",
    "model.add(MaxPooling2D(pool_size=(3, 3), strides=2))\n",
    "\n",
    "#Cyclic roll\n",
    "model.add(Conv2D(128, (3, 3)))\n",
    "model.add(LeakyReLU(alpha=1/3))\n",
    "model.add(Conv2D(128, (3, 3)))\n",
    "model.add(LeakyReLU(alpha=1/3))\n",
    "model.add(Conv2D(64, (3, 3)))\n",
    "model.add(LeakyReLU(alpha=1/3))\n",
    "model.add(MaxPooling2D(pool_size=(3, 3), strides=2))   \n",
    "\n",
    "#Cyclic roll\n",
    "model.add(Conv2D(256, (3, 3)))\n",
    "model.add(LeakyReLU(alpha=1/3))\n",
    "#model.add(Conv2D(256, (3, 3)))\n",
    "#model.add(LeakyReLU(alpha=1/3))\n",
    "#model.add(Conv2D(128, (3, 3)))\n",
    "#model.add(LeakyReLU(alpha=1/3))\n",
    "model.add(MaxPooling2D(pool_size=(3, 3), strides=2))\n",
    "\n",
    "#Cyclic roll\n",
    "model.add(Flatten())\n",
    "model.add(Dense(512))\n",
    "model.add(LeakyReLU(alpha=1/3))\n",
    "\n",
    "#cyclic pooling(rms)\n",
    "model.add(Dense(512))\n",
    "model.add(LeakyReLU(alpha=1/3))\n",
    "model.add(Dense(512))\n",
    "model.add(LeakyReLU(alpha=1/3))\n",
    "model.add(Dense(121))\n",
    "model.add(Activation('softmax'))\n",
    "\n",
    "model.compile(loss='categorical_crossentropy', optimizer='sgd', metrics=['accuracy'])"
   ]
  },
  {
   "cell_type": "code",
   "execution_count": 11,
   "metadata": {
    "collapsed": true
   },
   "outputs": [],
   "source": [
    "train_datagen = ImageDataGenerator(\n",
    "        rotation_range=360,\n",
    "        rescale=1./1.6,\n",
    "        shear_range=0.2,\n",
    "        channel_shift_range=10,\n",
    "        zoom_range=0.2,\n",
    "        horizontal_flip=True)"
   ]
  },
  {
   "cell_type": "code",
   "execution_count": 12,
   "metadata": {},
   "outputs": [
    {
     "name": "stdout",
     "output_type": "stream",
     "text": [
      "Found 19782 images belonging to 121 classes.\n"
     ]
    }
   ],
   "source": [
    "train_generator = train_datagen.flow_from_directory(\n",
    "    train_data_path,\n",
    "    target_size=(img_width, img_height),\n",
    "    batch_size=batch_size,\n",
    "    class_mode='categorical')"
   ]
  },
  {
   "cell_type": "code",
   "execution_count": 13,
   "metadata": {
    "collapsed": true
   },
   "outputs": [],
   "source": [
    "test_datagen = ImageDataGenerator(rescale=1. / 255)"
   ]
  },
  {
   "cell_type": "code",
   "execution_count": 14,
   "metadata": {},
   "outputs": [
    {
     "name": "stdout",
     "output_type": "stream",
     "text": [
      "Found 4422 images belonging to 121 classes.\n"
     ]
    }
   ],
   "source": [
    "validation_folder = 'data/validation_split'\n",
    "validation_generator = test_datagen.flow_from_directory(\n",
    "    validation_folder,\n",
    "    target_size=(img_width, img_height),\n",
    "    batch_size=batch_size,\n",
    "    class_mode='categorical')"
   ]
  },
  {
   "cell_type": "code",
   "execution_count": 15,
   "metadata": {
    "collapsed": true
   },
   "outputs": [],
   "source": [
    "from keras.callbacks import EarlyStopping\n",
    "early_stopping_monitor = EarlyStopping(patience=10)"
   ]
  },
  {
   "cell_type": "code",
   "execution_count": null,
   "metadata": {
    "scrolled": true
   },
   "outputs": [
    {
     "name": "stdout",
     "output_type": "stream",
     "text": [
      "Epoch 1/360\n",
      "62/62 [==============================] - 115s 2s/step - loss: 4.5162 - acc: 0.0550 - val_loss: 4.7819 - val_acc: 0.0587\n",
      "Epoch 2/360\n",
      "62/62 [==============================] - 118s 2s/step - loss: 4.1789 - acc: 0.0892 - val_loss: 4.7727 - val_acc: 0.0587\n",
      "Epoch 3/360\n",
      "62/62 [==============================] - 120s 2s/step - loss: 3.9632 - acc: 0.1215 - val_loss: 4.7660 - val_acc: 0.0950\n",
      "Epoch 4/360\n",
      "62/62 [==============================] - 125s 2s/step - loss: 3.7620 - acc: 0.1472 - val_loss: 4.7701 - val_acc: 0.0788\n",
      "Epoch 5/360\n",
      "62/62 [==============================] - 120s 2s/step - loss: 3.6464 - acc: 0.1668 - val_loss: 4.7655 - val_acc: 0.0887\n",
      "Epoch 6/360\n",
      "62/62 [==============================] - 118s 2s/step - loss: 3.5573 - acc: 0.1920 - val_loss: 4.7580 - val_acc: 0.1062\n",
      "Epoch 7/360\n",
      "62/62 [==============================] - 120s 2s/step - loss: 3.4434 - acc: 0.1915 - val_loss: 4.7628 - val_acc: 0.0912\n",
      "Epoch 8/360\n",
      "62/62 [==============================] - 119s 2s/step - loss: 3.3545 - acc: 0.2137 - val_loss: 4.7583 - val_acc: 0.1150\n",
      "Epoch 9/360\n",
      "62/62 [==============================] - 118s 2s/step - loss: 3.3627 - acc: 0.2112 - val_loss: 4.7535 - val_acc: 0.1175\n",
      "Epoch 10/360\n",
      "62/62 [==============================] - 119s 2s/step - loss: 3.2241 - acc: 0.2253 - val_loss: 4.7497 - val_acc: 0.1400\n",
      "Epoch 11/360\n",
      "62/62 [==============================] - 119s 2s/step - loss: 3.0242 - acc: 0.2717 - val_loss: 4.7533 - val_acc: 0.1338\n",
      "Epoch 12/360\n",
      "62/62 [==============================] - 118s 2s/step - loss: 2.9682 - acc: 0.2797 - val_loss: 4.7453 - val_acc: 0.1300\n",
      "Epoch 13/360\n",
      "62/62 [==============================] - 119s 2s/step - loss: 2.8178 - acc: 0.3009 - val_loss: 4.7507 - val_acc: 0.1250\n",
      "Epoch 14/360\n",
      "62/62 [==============================] - 119s 2s/step - loss: 2.8124 - acc: 0.3125 - val_loss: 4.7374 - val_acc: 0.1462\n",
      "Epoch 15/360\n",
      "62/62 [==============================] - 117s 2s/step - loss: 2.9305 - acc: 0.2853 - val_loss: 4.7437 - val_acc: 0.1325\n",
      "Epoch 16/360\n",
      "62/62 [==============================] - 117s 2s/step - loss: 2.6940 - acc: 0.3125 - val_loss: 4.7334 - val_acc: 0.1425\n",
      "Epoch 17/360\n",
      "62/62 [==============================] - 118s 2s/step - loss: 2.6609 - acc: 0.3155 - val_loss: 4.7324 - val_acc: 0.1412\n",
      "Epoch 18/360\n",
      "62/62 [==============================] - 117s 2s/step - loss: 2.5671 - acc: 0.3397 - val_loss: 4.7375 - val_acc: 0.1487\n",
      "Epoch 19/360\n",
      "62/62 [==============================] - 118s 2s/step - loss: 2.6209 - acc: 0.3231 - val_loss: 4.7427 - val_acc: 0.1462\n",
      "Epoch 20/360\n",
      "62/62 [==============================] - 117s 2s/step - loss: 2.5530 - acc: 0.3387 - val_loss: 4.7303 - val_acc: 0.1425\n",
      "Epoch 21/360\n",
      "62/62 [==============================] - 117s 2s/step - loss: 2.4798 - acc: 0.3367 - val_loss: 4.7328 - val_acc: 0.1487\n",
      "Epoch 22/360\n",
      "62/62 [==============================] - 118s 2s/step - loss: 2.4998 - acc: 0.3513 - val_loss: 4.7359 - val_acc: 0.1412\n",
      "Epoch 23/360\n",
      "62/62 [==============================] - 117s 2s/step - loss: 2.4210 - acc: 0.3649 - val_loss: 4.7223 - val_acc: 0.1450\n",
      "Epoch 24/360\n",
      "62/62 [==============================] - 117s 2s/step - loss: 2.3750 - acc: 0.3775 - val_loss: 4.7301 - val_acc: 0.1388\n",
      "Epoch 25/360\n",
      "62/62 [==============================] - 117s 2s/step - loss: 2.4039 - acc: 0.3639 - val_loss: 4.7258 - val_acc: 0.1462\n",
      "Epoch 26/360\n",
      "62/62 [==============================] - 117s 2s/step - loss: 2.2981 - acc: 0.3841 - val_loss: 4.7231 - val_acc: 0.1475\n",
      "Epoch 27/360\n",
      "62/62 [==============================] - 118s 2s/step - loss: 2.3042 - acc: 0.3725 - val_loss: 4.7241 - val_acc: 0.1437\n",
      "Epoch 28/360\n",
      "62/62 [==============================] - 118s 2s/step - loss: 2.2891 - acc: 0.3921 - val_loss: 4.7195 - val_acc: 0.1475\n",
      "Epoch 29/360\n",
      "62/62 [==============================] - 118s 2s/step - loss: 2.2788 - acc: 0.3962 - val_loss: 4.7230 - val_acc: 0.1588\n",
      "Epoch 30/360\n",
      "62/62 [==============================] - 118s 2s/step - loss: 2.2605 - acc: 0.4003 - val_loss: 4.7191 - val_acc: 0.1450\n",
      "Epoch 31/360\n",
      "62/62 [==============================] - 118s 2s/step - loss: 2.2007 - acc: 0.4073 - val_loss: 4.7229 - val_acc: 0.1450\n",
      "Epoch 32/360\n",
      "62/62 [==============================] - 119s 2s/step - loss: 2.1475 - acc: 0.4062 - val_loss: 4.7147 - val_acc: 0.1462\n",
      "Epoch 33/360\n",
      "62/62 [==============================] - 116s 2s/step - loss: 2.2821 - acc: 0.3867 - val_loss: 4.7139 - val_acc: 0.1462\n",
      "Epoch 34/360\n",
      "62/62 [==============================] - 118s 2s/step - loss: 2.1861 - acc: 0.4073 - val_loss: 4.7117 - val_acc: 0.1462\n",
      "Epoch 35/360\n",
      "62/62 [==============================] - 117s 2s/step - loss: 2.1312 - acc: 0.4194 - val_loss: 4.7200 - val_acc: 0.1437\n",
      "Epoch 36/360\n",
      "62/62 [==============================] - 118s 2s/step - loss: 2.1120 - acc: 0.4355 - val_loss: 4.7231 - val_acc: 0.1462\n",
      "Epoch 37/360\n",
      "62/62 [==============================] - 134s 2s/step - loss: 2.1161 - acc: 0.4209 - val_loss: 4.7170 - val_acc: 0.1462\n",
      "Epoch 38/360\n",
      "62/62 [==============================] - 117s 2s/step - loss: 2.0821 - acc: 0.4451 - val_loss: 4.7208 - val_acc: 0.1487\n",
      "Epoch 39/360\n",
      "62/62 [==============================] - 118s 2s/step - loss: 2.1038 - acc: 0.4330 - val_loss: 4.7189 - val_acc: 0.1437\n",
      "Epoch 40/360\n",
      "62/62 [==============================] - 119s 2s/step - loss: 2.0710 - acc: 0.4350 - val_loss: 4.7137 - val_acc: 0.1437\n",
      "Epoch 41/360\n",
      "62/62 [==============================] - 118s 2s/step - loss: 2.0479 - acc: 0.4239 - val_loss: 4.7126 - val_acc: 0.1462\n",
      "Epoch 42/360\n",
      "62/62 [==============================] - 118s 2s/step - loss: 2.0187 - acc: 0.4395 - val_loss: 4.7131 - val_acc: 0.1462\n",
      "Epoch 43/360\n",
      "62/62 [==============================] - 118s 2s/step - loss: 2.0213 - acc: 0.4647 - val_loss: 4.7030 - val_acc: 0.1475\n",
      "Epoch 44/360\n",
      "62/62 [==============================] - 118s 2s/step - loss: 2.0549 - acc: 0.4390 - val_loss: 4.7050 - val_acc: 0.1462\n",
      "Epoch 45/360\n",
      "62/62 [==============================] - 119s 2s/step - loss: 1.9930 - acc: 0.4657 - val_loss: 4.7011 - val_acc: 0.1462\n",
      "Epoch 46/360\n",
      "62/62 [==============================] - 119s 2s/step - loss: 1.9386 - acc: 0.4743 - val_loss: 4.7086 - val_acc: 0.1462\n",
      "Epoch 47/360\n",
      "62/62 [==============================] - 119s 2s/step - loss: 1.9508 - acc: 0.4521 - val_loss: 4.7086 - val_acc: 0.1475\n",
      "Epoch 48/360\n",
      "62/62 [==============================] - 117s 2s/step - loss: 1.9909 - acc: 0.4546 - val_loss: 4.7014 - val_acc: 0.1462\n",
      "Epoch 49/360\n",
      "62/62 [==============================] - 117s 2s/step - loss: 1.9293 - acc: 0.4723 - val_loss: 4.7027 - val_acc: 0.1475\n",
      "Epoch 50/360\n",
      "62/62 [==============================] - 116s 2s/step - loss: 1.9515 - acc: 0.4587 - val_loss: 4.7107 - val_acc: 0.1375\n",
      "Epoch 51/360\n",
      "62/62 [==============================] - 117s 2s/step - loss: 1.8855 - acc: 0.4844 - val_loss: 4.7033 - val_acc: 0.1462\n",
      "Epoch 52/360\n",
      "62/62 [==============================] - 117s 2s/step - loss: 1.8907 - acc: 0.4728 - val_loss: 4.6962 - val_acc: 0.1487\n",
      "Epoch 53/360\n",
      "62/62 [==============================] - 117s 2s/step - loss: 1.9507 - acc: 0.4561 - val_loss: 4.7023 - val_acc: 0.1475\n",
      "Epoch 54/360\n",
      "62/62 [==============================] - 117s 2s/step - loss: 1.8758 - acc: 0.4773 - val_loss: 4.6894 - val_acc: 0.1475\n",
      "Epoch 55/360\n",
      "62/62 [==============================] - 117s 2s/step - loss: 1.9286 - acc: 0.4551 - val_loss: 4.6920 - val_acc: 0.1475\n",
      "Epoch 56/360\n",
      "62/62 [==============================] - 117s 2s/step - loss: 1.9211 - acc: 0.4667 - val_loss: 4.7018 - val_acc: 0.1450\n",
      "Epoch 57/360\n",
      "62/62 [==============================] - 117s 2s/step - loss: 1.9428 - acc: 0.4733 - val_loss: 4.6968 - val_acc: 0.1437\n",
      "Epoch 58/360\n",
      "62/62 [==============================] - 118s 2s/step - loss: 1.7966 - acc: 0.5066 - val_loss: 4.6902 - val_acc: 0.1437\n",
      "Epoch 59/360\n",
      "62/62 [==============================] - 116s 2s/step - loss: 1.8275 - acc: 0.5024 - val_loss: 4.6910 - val_acc: 0.1400\n",
      "Epoch 60/360\n",
      "62/62 [==============================] - 117s 2s/step - loss: 1.8416 - acc: 0.4869 - val_loss: 4.6994 - val_acc: 0.1437\n",
      "Epoch 61/360\n",
      "62/62 [==============================] - 118s 2s/step - loss: 1.8332 - acc: 0.4945 - val_loss: 4.6951 - val_acc: 0.1388\n",
      "Epoch 62/360\n"
     ]
    },
    {
     "name": "stdout",
     "output_type": "stream",
     "text": [
      "62/62 [==============================] - 125s 2s/step - loss: 1.7917 - acc: 0.4970 - val_loss: 4.6908 - val_acc: 0.1437\n",
      "Epoch 63/360\n",
      "62/62 [==============================] - 115s 2s/step - loss: 1.8431 - acc: 0.4815 - val_loss: 4.6898 - val_acc: 0.1388\n",
      "Epoch 64/360\n",
      "62/62 [==============================] - 118s 2s/step - loss: 1.8102 - acc: 0.4889 - val_loss: 4.6870 - val_acc: 0.1388\n",
      "Epoch 65/360\n",
      "62/62 [==============================] - 122s 2s/step - loss: 1.7939 - acc: 0.5005 - val_loss: 4.6928 - val_acc: 0.1375\n",
      "Epoch 66/360\n",
      "62/62 [==============================] - 124s 2s/step - loss: 1.7441 - acc: 0.4970 - val_loss: 4.6905 - val_acc: 0.1412\n",
      "Epoch 67/360\n",
      "62/62 [==============================] - 119s 2s/step - loss: 1.8125 - acc: 0.5015 - val_loss: 4.6809 - val_acc: 0.1437\n",
      "Epoch 68/360\n",
      "62/62 [==============================] - 118s 2s/step - loss: 1.7937 - acc: 0.4778 - val_loss: 4.6932 - val_acc: 0.1300\n",
      "Epoch 69/360\n",
      "62/62 [==============================] - 117s 2s/step - loss: 1.7725 - acc: 0.4960 - val_loss: 4.6877 - val_acc: 0.1412\n",
      "Epoch 70/360\n",
      "62/62 [==============================] - 123s 2s/step - loss: 1.7901 - acc: 0.5086 - val_loss: 4.6800 - val_acc: 0.1425\n",
      "Epoch 71/360\n",
      "62/62 [==============================] - 122s 2s/step - loss: 1.7406 - acc: 0.4955 - val_loss: 4.6887 - val_acc: 0.1237\n",
      "Epoch 72/360\n",
      "62/62 [==============================] - 120s 2s/step - loss: 1.7191 - acc: 0.5116 - val_loss: 4.6923 - val_acc: 0.1263\n",
      "Epoch 73/360\n"
     ]
    }
   ],
   "source": [
    "model.fit_generator(\n",
    "    train_generator,\n",
    "    steps_per_epoch=nb_train_samples // batch_size,\n",
    "    epochs=epochs,\n",
    "    validation_data=validation_generator,\n",
    "    validation_steps=nb_validation_samples // batch_size, \n",
    "    callbacks = [early_stopping_monitor])\n",
    "\n",
    "model.save_weights('first_try.h5')\n",
    "model.save('Model_1.h5')"
   ]
  },
  {
   "cell_type": "code",
   "execution_count": null,
   "metadata": {
    "collapsed": true
   },
   "outputs": [],
   "source": [
    "model = load_model('model_1.h5')"
   ]
  },
  {
   "cell_type": "code",
   "execution_count": null,
   "metadata": {
    "collapsed": true
   },
   "outputs": [],
   "source": []
  }
 ],
 "metadata": {
  "kernelspec": {
   "display_name": "py35",
   "language": "python",
   "name": "py35"
  },
  "language_info": {
   "codemirror_mode": {
    "name": "ipython",
    "version": 3
   },
   "file_extension": ".py",
   "mimetype": "text/x-python",
   "name": "python",
   "nbconvert_exporter": "python",
   "pygments_lexer": "ipython3",
   "version": "3.5.4"
  }
 },
 "nbformat": 4,
 "nbformat_minor": 2
}
