{
 "cells": [
  {
   "cell_type": "code",
   "execution_count": 1,
   "metadata": {},
   "outputs": [
    {
     "name": "stderr",
     "output_type": "stream",
     "text": [
      "Using TensorFlow backend.\n"
     ]
    }
   ],
   "source": [
    "import pandas as pd\n",
    "import numpy as np\n",
    "import os\n",
    "from keras.preprocessing.image import ImageDataGenerator, array_to_img, img_to_array, load_img\n",
    "from keras.models import Sequential\n",
    "from keras.layers import Dense, Activation, Dropout, Flatten, Conv2D, MaxPooling2D\n",
    "import shutil\n",
    "from PIL import Image"
   ]
  },
  {
   "cell_type": "code",
   "execution_count": 2,
   "metadata": {
    "collapsed": true
   },
   "outputs": [],
   "source": [
    "#Import labels\n",
    "l1 = pd.read_csv('label_map.txt', delim_whitespace=True, names=['Plankton', 'Index_number'])\n",
    "l1.set_index(['Index_number'], inplace=True)\n",
    "\n",
    "#Import train labels\n",
    "train_labels = pd.read_csv('train_onelabel.csv')"
   ]
  },
  {
   "cell_type": "code",
   "execution_count": 3,
   "metadata": {
    "collapsed": true
   },
   "outputs": [],
   "source": [
    "#Paths of imagery\n",
    "train_data_path = 'data/train_images'\n",
    "test_data_path = 'data/test_images'"
   ]
  },
  {
   "cell_type": "code",
   "execution_count": 4,
   "metadata": {
    "collapsed": true
   },
   "outputs": [],
   "source": [
    "#Add label names to train_labels\n",
    "labels = pd.merge(train_labels, l1, how='outer', left_on='class', right_index=True, copy=True)"
   ]
  },
  {
   "cell_type": "code",
   "execution_count": 5,
   "metadata": {},
   "outputs": [
    {
     "name": "stdout",
     "output_type": "stream",
     "text": [
      "Number of train images: 24204\n",
      "Finished with resizing Train Data\n",
      "New image size:  224 x 224\n",
      "Number of test images: 6132 \n",
      "\n",
      "Finished with resizing Test Data\n",
      "New image size:  224 x 224\n"
     ]
    }
   ],
   "source": [
    "#Make new dirs\n",
    "os.mkdir('data/train_processed')\n",
    "os.mkdir('data/test_processed')\n",
    "#Paths of new folders\n",
    "train_preprocessed_path = 'data/train_processed'\n",
    "test_preprocessed_path = 'data/test_processed'\n",
    "\n",
    "#Set image dimensions\n",
    "img_rows = 224\n",
    "img_cols = 224\n",
    "\n",
    "#List directories\n",
    "train_data_listing = os.listdir(train_data_path)\n",
    "test_data_listing = os.listdir(test_data_path)\n",
    "\n",
    "print('Number of train images:', len(train_data_listing))\n",
    "\n",
    "#Resize images to 224x224 and add to path 'data/train_preprocessed'\n",
    "for file in train_data_listing:\n",
    "    im = Image.open(train_data_path + '\\\\' + file)\n",
    "    img = im.resize((img_rows, img_cols))\n",
    "    img.save(train_preprocessed_path + '\\\\' +file, 'JPEG')\n",
    "    \n",
    "print('Finished with resizing Train Data')\n",
    "print('New image size: ', img_rows, \"x\", img_cols)\n",
    "print('Number of test images:', len(test_data_listing), '\\n')\n",
    "    \n",
    "#Resize images to 224x224 and add to path 'data/test_preprocessed'\n",
    "for file in test_data_listing:\n",
    "    im = Image.open(test_data_path + '\\\\' + file)\n",
    "    img = im.resize((img_rows, img_cols))\n",
    "    img.save(test_preprocessed_path + '\\\\' +file, 'JPEG')\n",
    "    \n",
    "print('Finished with resizing Test Data')\n",
    "print('New image size: ', img_rows, \"x\", img_cols)"
   ]
  },
  {
   "cell_type": "code",
   "execution_count": 6,
   "metadata": {},
   "outputs": [
    {
     "name": "stdout",
     "output_type": "stream",
     "text": [
      "Finished with moving files to subfolders\n"
     ]
    }
   ],
   "source": [
    "#Image name and label to dictionary\n",
    "label_dict = labels.set_index('image')['Plankton'].to_dict()\n",
    "\n",
    "#Move files to subfolders\n",
    "for file in train_data_listing:\n",
    "    for key, value in label_dict.items():\n",
    "        if file == key:\n",
    "            path = os.path.join(train_preprocessed_path, value)\n",
    "            if not os.path.exists(path):\n",
    "                os.makedirs(path)\n",
    "            shutil.move(os.path.join(train_preprocessed_path, file), path)\n",
    "            \n",
    "print('Finished with moving files to subfolders')"
   ]
  },
  {
   "cell_type": "code",
   "execution_count": null,
   "metadata": {
    "collapsed": true
   },
   "outputs": [],
   "source": []
  },
  {
   "cell_type": "markdown",
   "metadata": {},
   "source": [
    "# Code in development"
   ]
  },
  {
   "cell_type": "code",
   "execution_count": 9,
   "metadata": {
    "collapsed": true
   },
   "outputs": [],
   "source": [
    "train_datagen = ImageDataGenerator(\n",
    "        rotation_range=40,\n",
    "        width_shift_range=0.2,\n",
    "        height_shift_range=0.2,\n",
    "        rescale=1./255,\n",
    "        shear_range=0.2,\n",
    "        zoom_range=0.2,\n",
    "        horizontal_flip=True,\n",
    "        fill_mode='nearest')"
   ]
  },
  {
   "cell_type": "code",
   "execution_count": 11,
   "metadata": {},
   "outputs": [
    {
     "name": "stdout",
     "output_type": "stream",
     "text": [
      "Image shape: (224, 224, 3)\n",
      "New shape: (1, 224, 224, 3)\n"
     ]
    }
   ],
   "source": [
    "#Load one image\n",
    "img = load_img('data/train_processed/acantharia_protist_halo/4844.jpg')\n",
    "#Convert to Numpy array (xx, xx, xx)\n",
    "x = img_to_array(img)\n",
    "print('Image shape:', x.shape)\n",
    "#Numpy array with shape (1, xx, xx, xx)\n",
    "x = x.reshape((1,) + x.shape)\n",
    "#print shape\n",
    "print('New shape:', x.shape)"
   ]
  },
  {
   "cell_type": "code",
   "execution_count": 12,
   "metadata": {
    "collapsed": true
   },
   "outputs": [],
   "source": [
    "#Create test images for preview\n",
    "i = 0\n",
    "for batch in train_datagen.flow(x, batch_size=1, save_to_dir='data/preview', save_prefix='acantharia_protist_halo', save_format='jpeg'):\n",
    "    i += 1\n",
    "    if i > 20:\n",
    "        break"
   ]
  },
  {
   "cell_type": "code",
   "execution_count": 13,
   "metadata": {
    "collapsed": true
   },
   "outputs": [],
   "source": [
    "#Build model\n",
    "model = Sequential()"
   ]
  },
  {
   "cell_type": "code",
   "execution_count": 14,
   "metadata": {
    "collapsed": true
   },
   "outputs": [],
   "source": [
    "model.add(Dense(units=64, activation='relu', input_dim=100))\n",
    "model.add(Dense(units=10, activation='softmax'))"
   ]
  },
  {
   "cell_type": "code",
   "execution_count": 15,
   "metadata": {
    "collapsed": true
   },
   "outputs": [],
   "source": [
    "model.compile(loss='categorical_crossentropy', optimizer='sgd')"
   ]
  },
  {
   "cell_type": "code",
   "execution_count": null,
   "metadata": {},
   "outputs": [
    {
     "name": "stdout",
     "output_type": "stream",
     "text": [
      "Found 0 images belonging to 0 classes.\n",
      "Found 0 images belonging to 0 classes.\n",
      "Epoch 1/50\n"
     ]
    }
   ],
   "source": [
    "train_datagen = ImageDataGenerator(\n",
    "        rescale=1./255,\n",
    "        shear_range=0.2,\n",
    "        zoom_range=0.2,\n",
    "        horizontal_flip=True)\n",
    "\n",
    "test_datagen = ImageDataGenerator(rescale=1./255)\n",
    "\n",
    "train_generator = train_datagen.flow_from_directory(\n",
    "        train_data_path,\n",
    "        target_size=(img_rows, img_cols),\n",
    "        batch_size=32,\n",
    "        class_mode='binary')\n",
    "\n",
    "validation_generator = test_datagen.flow_from_directory(\n",
    "        test_data_path,\n",
    "        target_size=(img_rows, img_cols),\n",
    "        batch_size=32,\n",
    "        class_mode='binary')\n",
    "\n",
    "model.fit_generator(\n",
    "        train_generator,\n",
    "        steps_per_epoch=2000,\n",
    "        epochs=50,\n",
    "        validation_data=validation_generator,\n",
    "        validation_steps=800)"
   ]
  },
  {
   "cell_type": "code",
   "execution_count": null,
   "metadata": {
    "collapsed": true
   },
   "outputs": [],
   "source": []
  },
  {
   "cell_type": "code",
   "execution_count": null,
   "metadata": {
    "collapsed": true
   },
   "outputs": [],
   "source": []
  },
  {
   "cell_type": "code",
   "execution_count": null,
   "metadata": {
    "collapsed": true
   },
   "outputs": [],
   "source": []
  },
  {
   "cell_type": "code",
   "execution_count": null,
   "metadata": {
    "collapsed": true
   },
   "outputs": [],
   "source": []
  }
 ],
 "metadata": {
  "kernelspec": {
   "display_name": "py35",
   "language": "python",
   "name": "py35"
  },
  "language_info": {
   "codemirror_mode": {
    "name": "ipython",
    "version": 3
   },
   "file_extension": ".py",
   "mimetype": "text/x-python",
   "name": "python",
   "nbconvert_exporter": "python",
   "pygments_lexer": "ipython3",
   "version": "3.5.4"
  }
 },
 "nbformat": 4,
 "nbformat_minor": 2
}
