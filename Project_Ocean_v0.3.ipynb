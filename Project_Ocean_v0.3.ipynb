{
 "cells": [
  {
   "cell_type": "code",
   "execution_count": 35,
   "metadata": {},
   "outputs": [],
   "source": [
    "import pandas as pd\n",
    "import numpy as np\n",
    "import os\n",
    "from keras.preprocessing.image import ImageDataGenerator, array_to_img, img_to_array, load_img\n",
    "from keras.models import Sequential\n",
    "from keras.layers import Dense, Activation, Dropout, Flatten, Conv2D, MaxPooling2D\n",
    "import shutil\n",
    "from PIL import Image\n",
    "from keras import backend as K"
   ]
  },
  {
   "cell_type": "markdown",
   "metadata": {},
   "source": [
    "# Preprocessing"
   ]
  },
  {
   "cell_type": "code",
   "execution_count": 36,
   "metadata": {
    "collapsed": true
   },
   "outputs": [],
   "source": [
    "#Import labels\n",
    "l1 = pd.read_csv('label_map.txt', delim_whitespace=True, names=['Plankton', 'Index_number'])\n",
    "l1.set_index(['Index_number'], inplace=True)\n",
    "\n",
    "#Import train labels\n",
    "train_labels = pd.read_csv('train_onelabel.csv')"
   ]
  },
  {
   "cell_type": "code",
   "execution_count": 37,
   "metadata": {
    "collapsed": true
   },
   "outputs": [],
   "source": [
    "#Paths of imagery\n",
    "train_data_path = 'data/train_images'\n",
    "test_data_path = 'data/test_images'"
   ]
  },
  {
   "cell_type": "code",
   "execution_count": 38,
   "metadata": {
    "collapsed": true
   },
   "outputs": [],
   "source": [
    "#Add label names to train_labels\n",
    "labels = pd.merge(train_labels, l1, how='outer', left_on='class', right_index=True, copy=True)"
   ]
  },
  {
   "cell_type": "code",
   "execution_count": 39,
   "metadata": {
    "collapsed": true
   },
   "outputs": [],
   "source": [
    "#Set image dimensions\n",
    "img_width = 224\n",
    "img_height = 224\n",
    "\n",
    "#Paths of new folders\n",
    "train_preprocessed_path = 'data/train_processed'\n",
    "test_preprocessed_path = 'data/test_processed'"
   ]
  },
  {
   "cell_type": "code",
   "execution_count": 40,
   "metadata": {},
   "outputs": [
    {
     "name": "stdout",
     "output_type": "stream",
     "text": [
      "Number of train images: 24204\n",
      "Finished with resizing Train Data\n",
      "New image size:  224 x 224 \n",
      "\n",
      "Number of test images: 6132\n",
      "Finished with resizing Test Data\n",
      "New image size:  224 x 224\n"
     ]
    }
   ],
   "source": [
    "#Make new dirs\n",
    "os.mkdir('data/train_processed')\n",
    "os.mkdir('data/test_processed')\n",
    "\n",
    "#List directories\n",
    "train_data_listing = os.listdir(train_data_path)\n",
    "test_data_listing = os.listdir(test_data_path)\n",
    "\n",
    "print('Number of train images:', len(train_data_listing))\n",
    "\n",
    "#Resize images to 224x224 and add to path 'data/train_preprocessed'\n",
    "for file in train_data_listing:\n",
    "    im = Image.open(train_data_path + '\\\\' + file)\n",
    "    img = im.resize((img_width, img_height))\n",
    "    img.save(train_preprocessed_path + '\\\\' +file, 'JPEG')\n",
    "    \n",
    "print('Finished with resizing Train Data')\n",
    "print('New image size: ', img_width, \"x\", img_height, '\\n')\n",
    "print('Number of test images:', len(test_data_listing))\n",
    "    \n",
    "#Resize images to 224x224 and add to path 'data/test_preprocessed'\n",
    "for file in test_data_listing:\n",
    "    im = Image.open(test_data_path + '\\\\' + file)\n",
    "    img = im.resize((img_width, img_height))\n",
    "    img.save(test_preprocessed_path + '\\\\' +file, 'JPEG')\n",
    "    \n",
    "print('Finished with resizing Test Data')\n",
    "print('New image size: ', img_width, \"x\", img_height)"
   ]
  },
  {
   "cell_type": "code",
   "execution_count": 41,
   "metadata": {},
   "outputs": [
    {
     "name": "stdout",
     "output_type": "stream",
     "text": [
      "Finished with moving files to subfolders\n"
     ]
    }
   ],
   "source": [
    "#Image name and label to dictionary\n",
    "label_dict = labels.set_index('image')['Plankton'].to_dict()\n",
    "\n",
    "#Move files to subfolders\n",
    "for file in train_data_listing:\n",
    "    for key, value in label_dict.items():\n",
    "        if file == key:\n",
    "            path = os.path.join(train_preprocessed_path, value)\n",
    "            if not os.path.exists(path):\n",
    "                os.makedirs(path)\n",
    "            shutil.move(os.path.join(train_preprocessed_path, file), path)\n",
    "            \n",
    "print('Finished with moving files to subfolders')"
   ]
  },
  {
   "cell_type": "markdown",
   "metadata": {},
   "source": [
    "# Test Run"
   ]
  },
  {
   "cell_type": "code",
   "execution_count": 42,
   "metadata": {
    "collapsed": true
   },
   "outputs": [],
   "source": [
    "train_datagen = ImageDataGenerator(\n",
    "        rotation_range=40,\n",
    "        width_shift_range=0.2,\n",
    "        height_shift_range=0.2,\n",
    "        rescale=1./255,\n",
    "        shear_range=0.2,\n",
    "        zoom_range=0.2,\n",
    "        horizontal_flip=True,\n",
    "        fill_mode='nearest')"
   ]
  },
  {
   "cell_type": "code",
   "execution_count": 43,
   "metadata": {},
   "outputs": [
    {
     "name": "stdout",
     "output_type": "stream",
     "text": [
      "Image shape: (224, 224, 3)\n",
      "New shape: (1, 224, 224, 3)\n"
     ]
    }
   ],
   "source": [
    "#Load one image\n",
    "img = load_img('data/train_processed/acantharia_protist_halo/4844.jpg')\n",
    "#Convert to Numpy array (xx, xx, xx)\n",
    "x = img_to_array(img)\n",
    "print('Image shape:', x.shape)\n",
    "#Numpy array with shape (1, xx, xx, xx)\n",
    "x = x.reshape((1,) + x.shape)\n",
    "#print shape\n",
    "print('New shape:', x.shape)"
   ]
  },
  {
   "cell_type": "code",
   "execution_count": null,
   "metadata": {
    "collapsed": true
   },
   "outputs": [],
   "source": [
    "#Create test images for preview\n",
    "i = 0\n",
    "for batch in train_datagen.flow(x, batch_size=1, save_to_dir='data/preview', save_prefix='acantharia_protist_halo', save_format='jpeg'):\n",
    "    i += 1\n",
    "    if i > 20:\n",
    "        break\n",
    "        \n",
    "print('Check the new folder data\\preview for what these lines of code did')"
   ]
  },
  {
   "cell_type": "markdown",
   "metadata": {},
   "source": [
    "# First Keras model run"
   ]
  },
  {
   "cell_type": "code",
   "execution_count": 45,
   "metadata": {
    "collapsed": true
   },
   "outputs": [],
   "source": [
    "#Parameters\n",
    "nb_train_samples = 2000\n",
    "nb_validation_samples = 800\n",
    "epochs = 50\n",
    "batch_size = 16"
   ]
  },
  {
   "cell_type": "code",
   "execution_count": 46,
   "metadata": {},
   "outputs": [],
   "source": [
    "#Prepare data\n",
    "if K.image_data_format() == 'channels_first':\n",
    "    input_shape = (3, img_width, img_height)\n",
    "else:\n",
    "    input_shape = (img_width, img_height, 3)"
   ]
  },
  {
   "cell_type": "code",
   "execution_count": 47,
   "metadata": {},
   "outputs": [],
   "source": [
    "#Build model\n",
    "model = Sequential()\n",
    "model.add(Conv2D(32, (3, 3), input_shape=input_shape))\n",
    "model.add(Activation('relu'))\n",
    "model.add(MaxPooling2D(pool_size=(2, 2)))\n",
    "\n",
    "model.add(Conv2D(32, (3, 3)))\n",
    "model.add(Activation('relu'))\n",
    "model.add(MaxPooling2D(pool_size=(2, 2)))\n",
    "\n",
    "model.add(Conv2D(64, (3, 3)))\n",
    "model.add(Activation('relu'))\n",
    "model.add(MaxPooling2D(pool_size=(2, 2)))\n",
    "\n",
    "model.add(Flatten())  # this converts our 3D feature maps to 1D feature vectors\n",
    "model.add(Dense(64))\n",
    "model.add(Activation('relu'))\n",
    "model.add(Dropout(0.5))\n",
    "model.add(Dense(1))\n",
    "model.add(Activation('sigmoid'))\n",
    "model.compile(loss='binary_crossentropy', optimizer='rmsprop', metrics=['accuracy'])"
   ]
  },
  {
   "cell_type": "code",
   "execution_count": 48,
   "metadata": {},
   "outputs": [
    {
     "name": "stdout",
     "output_type": "stream",
     "text": [
      "Found 24204 images belonging to 121 classes.\n"
     ]
    }
   ],
   "source": [
    "train_generator = train_datagen.flow_from_directory(\n",
    "    train_preprocessed_path,\n",
    "    target_size=(img_width, img_height),\n",
    "    batch_size=batch_size,\n",
    "    class_mode='binary')"
   ]
  },
  {
   "cell_type": "code",
   "execution_count": null,
   "metadata": {},
   "outputs": [
    {
     "name": "stdout",
     "output_type": "stream",
     "text": [
      "Found 0 images belonging to 0 classes.\n"
     ]
    }
   ],
   "source": [
    "validation_generator = test_datagen.flow_from_directory(\n",
    "    test_preprocessed_path,\n",
    "    target_size=(img_width, img_height),\n",
    "    batch_size=batch_size,\n",
    "    class_mode='binary')"
   ]
  },
  {
   "cell_type": "code",
   "execution_count": null,
   "metadata": {},
   "outputs": [
    {
     "name": "stdout",
     "output_type": "stream",
     "text": [
      "Epoch 1/50\n",
      "125/125 [==============================] - 178s 1s/step - loss: -883.3167 - acc: 1.0000e-03\n",
      "Epoch 2/50\n",
      "125/125 [==============================] - 168s 1s/step - loss: -888.7880 - acc: 5.0000e-04\n",
      "Epoch 3/50\n",
      "125/125 [==============================] - 169s 1s/step - loss: -853.4198 - acc: 0.0000e+00\n",
      "Epoch 4/50\n",
      "125/125 [==============================] - 170s 1s/step - loss: -864.6034 - acc: 5.0000e-04\n",
      "Epoch 5/50\n",
      " 22/125 [====>.........................] - ETA: 2:25 - loss: -885.2553 - acc: 0.0000e+00"
     ]
    }
   ],
   "source": [
    "model.fit_generator(\n",
    "    train_generator,\n",
    "    steps_per_epoch=nb_train_samples // batch_size,\n",
    "    epochs=epochs,\n",
    "    validation_data=validation_generator,\n",
    "    validation_steps=nb_validation_samples // batch_size)\n",
    "\n",
    "model.save_weights('first_try.h5')"
   ]
  },
  {
   "cell_type": "code",
   "execution_count": null,
   "metadata": {
    "collapsed": true
   },
   "outputs": [],
   "source": []
  }
 ],
 "metadata": {
  "kernelspec": {
   "display_name": "py35",
   "language": "python",
   "name": "py35"
  },
  "language_info": {
   "codemirror_mode": {
    "name": "ipython",
    "version": 3
   },
   "file_extension": ".py",
   "mimetype": "text/x-python",
   "name": "python",
   "nbconvert_exporter": "python",
   "pygments_lexer": "ipython3",
   "version": "3.5.4"
  }
 },
 "nbformat": 4,
 "nbformat_minor": 2
}
