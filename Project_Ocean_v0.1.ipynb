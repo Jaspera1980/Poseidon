{
 "cells": [
  {
   "cell_type": "code",
   "execution_count": 38,
   "metadata": {},
   "outputs": [
    {
     "name": "stderr",
     "output_type": "stream",
     "text": [
      "Using TensorFlow backend.\n"
     ]
    }
   ],
   "source": [
    "import pandas as pd\n",
    "import numpy as np\n",
    "import os\n",
    "#from PIL.Image import core\n",
    "from PIL import Image\n",
    "from keras.preprocessing.image import ImageDataGenerator\n",
    "from keras.models import Sequential\n",
    "from keras.layers import Dense\n"
   ]
  },
  {
   "cell_type": "code",
   "execution_count": 66,
   "metadata": {
    "collapsed": true
   },
   "outputs": [],
   "source": [
    "#Import labels\n",
    "labels = pd.read_csv('label_map.txt', delim_whitespace=True, names=['Plankton', 'Index_number'])\n",
    "labels.set_index(['Index_number'], inplace=True)\n",
    "\n",
    "#Import train labels\n",
    "train_labels = pd.read_csv('train_onelabel.csv')\n"
   ]
  },
  {
   "cell_type": "code",
   "execution_count": 67,
   "metadata": {},
   "outputs": [
    {
     "name": "stdout",
     "output_type": "stream",
     "text": [
      "                               Plankton\n",
      "Index_number                           \n",
      "0                  unknown_unclassified\n",
      "1                        unknown_sticks\n",
      "2                          protist_star\n",
      "3             copepod_cyclopoid_oithona\n",
      "4              hydromedusae_solmundella\n",
      "Index_number\n",
      "90     trochophore_larvae\n",
      "91        shrimp_caridean\n",
      "92    hydromedusae_shapeB\n",
      "Name: Plankton, dtype: object\n"
     ]
    },
    {
     "data": {
      "text/plain": [
       "121"
      ]
     },
     "execution_count": 67,
     "metadata": {},
     "output_type": "execute_result"
    }
   ],
   "source": [
    "print(labels.head())\n",
    "\n",
    "print(labels['Plankton'].iloc[90:93])\n",
    "\n",
    "len(labels['Plankton'])\n"
   ]
  },
  {
   "cell_type": "code",
   "execution_count": 68,
   "metadata": {},
   "outputs": [
    {
     "data": {
      "text/html": [
       "<div>\n",
       "<style scoped>\n",
       "    .dataframe tbody tr th:only-of-type {\n",
       "        vertical-align: middle;\n",
       "    }\n",
       "\n",
       "    .dataframe tbody tr th {\n",
       "        vertical-align: top;\n",
       "    }\n",
       "\n",
       "    .dataframe thead th {\n",
       "        text-align: right;\n",
       "    }\n",
       "</style>\n",
       "<table border=\"1\" class=\"dataframe\">\n",
       "  <thead>\n",
       "    <tr style=\"text-align: right;\">\n",
       "      <th></th>\n",
       "      <th>image</th>\n",
       "      <th>class</th>\n",
       "    </tr>\n",
       "  </thead>\n",
       "  <tbody>\n",
       "    <tr>\n",
       "      <th>322</th>\n",
       "      <td>140541.jpg</td>\n",
       "      <td>1</td>\n",
       "    </tr>\n",
       "    <tr>\n",
       "      <th>323</th>\n",
       "      <td>36771.jpg</td>\n",
       "      <td>1</td>\n",
       "    </tr>\n",
       "    <tr>\n",
       "      <th>324</th>\n",
       "      <td>104493.jpg</td>\n",
       "      <td>1</td>\n",
       "    </tr>\n",
       "    <tr>\n",
       "      <th>325</th>\n",
       "      <td>85115.jpg</td>\n",
       "      <td>1</td>\n",
       "    </tr>\n",
       "    <tr>\n",
       "      <th>326</th>\n",
       "      <td>156573.jpg</td>\n",
       "      <td>1</td>\n",
       "    </tr>\n",
       "  </tbody>\n",
       "</table>\n",
       "</div>"
      ],
      "text/plain": [
       "          image  class\n",
       "322  140541.jpg      1\n",
       "323   36771.jpg      1\n",
       "324  104493.jpg      1\n",
       "325   85115.jpg      1\n",
       "326  156573.jpg      1"
      ]
     },
     "execution_count": 68,
     "metadata": {},
     "output_type": "execute_result"
    }
   ],
   "source": [
    "#train_labels.describe()\n",
    "#train_labels.info()\n",
    "select = train_labels['class'] == 1\n",
    "train_labels[select].head()"
   ]
  },
  {
   "cell_type": "code",
   "execution_count": 61,
   "metadata": {},
   "outputs": [],
   "source": [
    "#Only run first time\n",
    "#os.mkdir('data/train_preprocessed')\n",
    "#os.mkdir('data/test_preprocessed')\n",
    "#Paths of imagery\n",
    "train_data_path = 'data/train_images'\n",
    "train_preprocessed_path = 'data/train_preprocessed'\n",
    "test_data_path = 'data/test_images'\n",
    "test_preprocessed_path = 'data/test_preprocessed'"
   ]
  },
  {
   "cell_type": "code",
   "execution_count": 62,
   "metadata": {},
   "outputs": [
    {
     "name": "stdout",
     "output_type": "stream",
     "text": [
      "Number of train images: 24204\n"
     ]
    }
   ],
   "source": [
    "#List directory with train imagery\n",
    "train_data_listing = os.listdir(train_data_path)\n",
    "print('Number of train images:', len(train_data_listing))"
   ]
  },
  {
   "cell_type": "code",
   "execution_count": 63,
   "metadata": {
    "collapsed": true
   },
   "outputs": [],
   "source": [
    "#Set image dimensions\n",
    "img_rows = 224\n",
    "img_cols = 224"
   ]
  },
  {
   "cell_type": "code",
   "execution_count": 56,
   "metadata": {
    "collapsed": true
   },
   "outputs": [],
   "source": [
    "#Resize images to 224x224 and add to path 'data/train_preprocessed'\n",
    "for file in train_data_listing:\n",
    "    im = Image.open(train_data_path + '\\\\' + file)\n",
    "    img = im.resize((img_rows, img_cols))\n",
    "    img.save(train_preprocessed_path + '\\\\' +file, 'JPEG')"
   ]
  },
  {
   "cell_type": "code",
   "execution_count": 57,
   "metadata": {},
   "outputs": [
    {
     "name": "stdout",
     "output_type": "stream",
     "text": [
      "Number of train images: 6132\n"
     ]
    }
   ],
   "source": [
    "#List directory with train imagery\n",
    "test_data_listing = os.listdir(test_data_path)\n",
    "print('Number of train images:', len(test_data_listing))"
   ]
  },
  {
   "cell_type": "code",
   "execution_count": 58,
   "metadata": {
    "collapsed": true
   },
   "outputs": [],
   "source": [
    "#Resize images to 224x224 and add to path 'data/test_preprocessed'\n",
    "for file in test_data_listing:\n",
    "    im = Image.open(test_data_path + '\\\\' + file)\n",
    "    img = im.resize((img_rows, img_cols))\n",
    "    img.save(test_preprocessed_path + '\\\\' +file, 'JPEG')"
   ]
  },
  {
   "cell_type": "code",
   "execution_count": 69,
   "metadata": {},
   "outputs": [],
   "source": [
    "#List of plankton labels\n",
    "plankton = list(labels['Plankton'])"
   ]
  },
  {
   "cell_type": "code",
   "execution_count": null,
   "metadata": {},
   "outputs": [],
   "source": [
    "train_batches = ImageDataGenerator().flow_from_directory(train_preprocessed_path, target_size=(224,224), classes=plankton, batch_size=10)"
   ]
  },
  {
   "cell_type": "code",
   "execution_count": null,
   "metadata": {
    "collapsed": true
   },
   "outputs": [],
   "source": [
    "#Set up training model\n",
    "model = Sequential()\n"
   ]
  },
  {
   "cell_type": "code",
   "execution_count": 239,
   "metadata": {
    "collapsed": true
   },
   "outputs": [],
   "source": [
    "#class omzetten naar binair\n",
    "#images labelen met binaire class"
   ]
  },
  {
   "cell_type": "code",
   "execution_count": 10,
   "metadata": {},
   "outputs": [
    {
     "name": "stdout",
     "output_type": "stream",
     "text": [
      "copepod_cyclopoid_oithona\n"
     ]
    }
   ],
   "source": [
    "#Test\n",
    "print(plankton[3])"
   ]
  },
  {
   "cell_type": "code",
   "execution_count": null,
   "metadata": {
    "collapsed": true
   },
   "outputs": [],
   "source": []
  },
  {
   "cell_type": "code",
   "execution_count": null,
   "metadata": {
    "collapsed": true
   },
   "outputs": [],
   "source": []
  },
  {
   "cell_type": "code",
   "execution_count": null,
   "metadata": {
    "collapsed": true
   },
   "outputs": [],
   "source": []
  },
  {
   "cell_type": "code",
   "execution_count": null,
   "metadata": {
    "collapsed": true
   },
   "outputs": [],
   "source": []
  },
  {
   "cell_type": "code",
   "execution_count": 20,
   "metadata": {
    "collapsed": true
   },
   "outputs": [],
   "source": [
    "#From Kaggle\n",
    "#Import libraries for doing image analysis\n",
    "from skimage.io import imread\n",
    "from skimage.transform import resize\n",
    "from sklearn.ensemble import RandomForestClassifier as RF\n",
    "import glob\n",
    "import os\n",
    "from sklearn import cross_validation\n",
    "from sklearn.cross_validation import StratifiedKFold as KFold\n",
    "from sklearn.metrics import classification_report\n",
    "from matplotlib import pyplot as plt\n",
    "from matplotlib import colors\n",
    "from pylab import cm\n",
    "from skimage import segmentation\n",
    "from skimage.morphology import watershed\n",
    "from skimage import measure\n",
    "from skimage import morphology\n",
    "import numpy as np\n",
    "import pandas as pd\n",
    "from scipy import ndimage\n",
    "from skimage.feature import peak_local_max\n",
    "# make graphics inline\n",
    "%matplotlib inline\n"
   ]
  },
  {
   "cell_type": "code",
   "execution_count": 50,
   "metadata": {},
   "outputs": [
    {
     "name": "stdout",
     "output_type": "stream",
     "text": [
      "data/train_preprocessed\\100303.jpg\n"
     ]
    },
    {
     "data": {
      "image/png": "[encoded data removed]",
      "text/plain": [
       "<matplotlib.figure.Figure at 0x23fb32f54a8>"
      ]
     },
     "metadata": {},
     "output_type": "display_data"
    }
   ],
   "source": [
    "# Example image\n",
    "# This example was chosen for because it has two noncontinguous pieces\n",
    "# that will make the segmentation example more illustrative\n",
    "example_file = glob.glob(os.path.join(train_preprocessed_path,\"*.jpg\"))[45]\n",
    "print(example_file)\n",
    "im = imread(example_file, as_grey=True)\n",
    "plt.imshow(im, cmap=cm.gray)\n",
    "plt.show()"
   ]
  },
  {
   "cell_type": "code",
   "execution_count": 51,
   "metadata": {},
   "outputs": [
    {
     "data": {
      "text/plain": [
       "<matplotlib.image.AxesImage at 0x23fb372f4e0>"
      ]
     },
     "execution_count": 51,
     "metadata": {},
     "output_type": "execute_result"
    },
    {
     "data": {
      "image/png": "[encoded data removed]",
      "text/plain": [
       "<matplotlib.figure.Figure at 0x23fb3824c50>"
      ]
     },
     "metadata": {},
     "output_type": "display_data"
    }
   ],
   "source": [
    "# First we threshold the image by only taking values greater than the mean to reduce noise in the image\n",
    "# to use later as a mask\n",
    "f = plt.figure(figsize=(12,3))\n",
    "imthr = im.copy()\n",
    "imthr = np.where(im > np.mean(im),0.,1.0)\n",
    "sub1 = plt.subplot(1,4,1)\n",
    "plt.imshow(im, cmap=cm.gray)\n",
    "sub1.set_title(\"Original Image\")\n",
    "\n",
    "sub2 = plt.subplot(1,4,2)\n",
    "plt.imshow(imthr, cmap=cm.gray_r)\n",
    "sub2.set_title(\"Thresholded Image\")\n",
    "\n",
    "imdilated = morphology.dilation(imthr, np.ones((4,4)))\n",
    "sub3 = plt.subplot(1, 4, 3)\n",
    "plt.imshow(imdilated, cmap=cm.gray_r)\n",
    "sub3.set_title(\"Dilated Image\")\n",
    "\n",
    "labels = measure.label(imdilated)\n",
    "labels = imthr*labels\n",
    "labels = labels.astype(int)\n",
    "sub4 = plt.subplot(1, 4, 4)\n",
    "sub4.set_title(\"Labeled Image\")\n",
    "plt.imshow(labels)"
   ]
  },
  {
   "cell_type": "code",
   "execution_count": 27,
   "metadata": {
    "collapsed": true
   },
   "outputs": [],
   "source": [
    "# calculate common region properties for each region within the segmentation\n",
    "regions = measure.regionprops(labels)\n",
    "# find the largest nonzero region\n",
    "def getLargestRegion(props=regions, labelmap=labels, imagethres=imthr):\n",
    "    regionmaxprop = None\n",
    "    for regionprop in props:\n",
    "        # check to see if the region is at least 50% nonzero\n",
    "        if sum(imagethres[labelmap == regionprop.label])*1.0/regionprop.area < 0.50:\n",
    "            continue\n",
    "        if regionmaxprop is None:\n",
    "            regionmaxprop = regionprop\n",
    "        if regionmaxprop.filled_area < regionprop.filled_area:\n",
    "            regionmaxprop = regionprop\n",
    "    return regionmaxprop\n"
   ]
  },
  {
   "cell_type": "code",
   "execution_count": 28,
   "metadata": {},
   "outputs": [
    {
     "data": {
      "image/png": "[encoded data removed]",
      "text/plain": [
       "<matplotlib.figure.Figure at 0x23fb071aeb8>"
      ]
     },
     "metadata": {},
     "output_type": "display_data"
    }
   ],
   "source": [
    "regionmax = getLargestRegion()\n",
    "plt.imshow(np.where(labels == regionmax.label,1.0,0.0))\n",
    "plt.show()"
   ]
  },
  {
   "cell_type": "code",
   "execution_count": 30,
   "metadata": {},
   "outputs": [
    {
     "name": "stdout",
     "output_type": "stream",
     "text": [
      "0.716532058423142\n"
     ]
    }
   ],
   "source": [
    "print(regionmax.minor_axis_length/regionmax.major_axis_length)\n"
   ]
  },
  {
   "cell_type": "code",
   "execution_count": 31,
   "metadata": {
    "collapsed": true
   },
   "outputs": [],
   "source": [
    "def getMinorMajorRatio(image):\n",
    "    image = image.copy()\n",
    "    # Create the thresholded image to eliminate some of the background\n",
    "    imagethr = np.where(image > np.mean(image),0.,1.0)\n",
    "\n",
    "    #Dilate the image\n",
    "    imdilated = morphology.dilation(imagethr, np.ones((4,4)))\n",
    "\n",
    "    # Create the label list\n",
    "    label_list = measure.label(imdilated)\n",
    "    label_list = imagethr*label_list\n",
    "    label_list = label_list.astype(int)\n",
    "    \n",
    "    region_list = measure.regionprops(label_list)\n",
    "    maxregion = getLargestRegion(region_list, label_list, imagethr)\n",
    "    \n",
    "    # guard against cases where the segmentation fails by providing zeros\n",
    "    ratio = 0.0\n",
    "    if ((not maxregion is None) and  (maxregion.major_axis_length != 0.0)):\n",
    "        ratio = 0.0 if maxregion is None else  maxregion.minor_axis_length*1.0 / maxregion.major_axis_length\n",
    "    return ratio"
   ]
  },
  {
   "cell_type": "code",
   "execution_count": 37,
   "metadata": {},
   "outputs": [
    {
     "ename": "IndexError",
     "evalue": "list index out of range",
     "output_type": "error",
     "traceback": [
      "\u001b[1;31m---------------------------------------------------------------------------\u001b[0m",
      "\u001b[1;31mIndexError\u001b[0m                                Traceback (most recent call last)",
      "\u001b[1;32m<ipython-input-37-99a0cbfa7b2a>\u001b[0m in \u001b[0;36m<module>\u001b[1;34m()\u001b[0m\n\u001b[0;32m     14\u001b[0m     \u001b[0msubfig\u001b[0m \u001b[1;33m=\u001b[0m \u001b[0mplt\u001b[0m\u001b[1;33m.\u001b[0m\u001b[0msubplot\u001b[0m\u001b[1;33m(\u001b[0m\u001b[1;36m4\u001b[0m\u001b[1;33m,\u001b[0m \u001b[1;36m5\u001b[0m\u001b[1;33m,\u001b[0m \u001b[0mj\u001b[0m\u001b[1;33m/\u001b[0m\u001b[1;36m2\u001b[0m \u001b[1;33m+\u001b[0m\u001b[1;36m1\u001b[0m\u001b[1;33m)\u001b[0m\u001b[1;33m\u001b[0m\u001b[0m\n\u001b[0;32m     15\u001b[0m     \u001b[1;31m# Plot the normalized histograms for two classes\u001b[0m\u001b[1;33m\u001b[0m\u001b[1;33m\u001b[0m\u001b[0m\n\u001b[1;32m---> 16\u001b[1;33m     \u001b[0mclassind1\u001b[0m \u001b[1;33m=\u001b[0m \u001b[0mlargeclasses\u001b[0m\u001b[1;33m[\u001b[0m\u001b[0mj\u001b[0m\u001b[1;33m]\u001b[0m\u001b[1;33m\u001b[0m\u001b[0m\n\u001b[0m\u001b[0;32m     17\u001b[0m     \u001b[0mclassind2\u001b[0m \u001b[1;33m=\u001b[0m \u001b[0mlargeclasses\u001b[0m\u001b[1;33m[\u001b[0m\u001b[0mj\u001b[0m\u001b[1;33m+\u001b[0m\u001b[1;36m1\u001b[0m\u001b[1;33m]\u001b[0m\u001b[1;33m\u001b[0m\u001b[0m\n\u001b[0;32m     18\u001b[0m     \u001b[0mn\u001b[0m\u001b[1;33m,\u001b[0m \u001b[0mbins\u001b[0m\u001b[1;33m,\u001b[0m\u001b[0mp\u001b[0m \u001b[1;33m=\u001b[0m \u001b[0mplt\u001b[0m\u001b[1;33m.\u001b[0m\u001b[0mhist\u001b[0m\u001b[1;33m(\u001b[0m\u001b[0mdf\u001b[0m\u001b[1;33m.\u001b[0m\u001b[0mloc\u001b[0m\u001b[1;33m[\u001b[0m\u001b[0mdf\u001b[0m\u001b[1;33m[\u001b[0m\u001b[1;34m\"class\"\u001b[0m\u001b[1;33m]\u001b[0m \u001b[1;33m==\u001b[0m \u001b[0mclassind1\u001b[0m\u001b[1;33m]\u001b[0m\u001b[1;33m[\u001b[0m\u001b[1;34m\"ratio\"\u001b[0m\u001b[1;33m]\u001b[0m\u001b[1;33m.\u001b[0m\u001b[0mvalues\u001b[0m\u001b[1;33m,\u001b[0m                         \u001b[0malpha\u001b[0m\u001b[1;33m=\u001b[0m\u001b[1;36m0.5\u001b[0m\u001b[1;33m,\u001b[0m \u001b[0mbins\u001b[0m\u001b[1;33m=\u001b[0m\u001b[1;33m[\u001b[0m\u001b[0mx\u001b[0m\u001b[1;33m*\u001b[0m\u001b[1;36m0.01\u001b[0m \u001b[1;32mfor\u001b[0m \u001b[0mx\u001b[0m \u001b[1;32min\u001b[0m \u001b[0mrange\u001b[0m\u001b[1;33m(\u001b[0m\u001b[1;36m100\u001b[0m\u001b[1;33m)\u001b[0m\u001b[1;33m]\u001b[0m\u001b[1;33m,\u001b[0m                          \u001b[0mlabel\u001b[0m\u001b[1;33m=\u001b[0m\u001b[0mnamesClasses\u001b[0m\u001b[1;33m[\u001b[0m\u001b[0mclassind1\u001b[0m\u001b[1;33m]\u001b[0m\u001b[1;33m.\u001b[0m\u001b[0msplit\u001b[0m\u001b[1;33m(\u001b[0m\u001b[0mos\u001b[0m\u001b[1;33m.\u001b[0m\u001b[0msep\u001b[0m\u001b[1;33m)\u001b[0m\u001b[1;33m[\u001b[0m\u001b[1;33m-\u001b[0m\u001b[1;36m1\u001b[0m\u001b[1;33m]\u001b[0m\u001b[1;33m,\u001b[0m \u001b[0mnormed\u001b[0m\u001b[1;33m=\u001b[0m\u001b[1;36m1\u001b[0m\u001b[1;33m)\u001b[0m\u001b[1;33m\u001b[0m\u001b[0m\n",
      "\u001b[1;31mIndexError\u001b[0m: list index out of range"
     ]
    },
    {
     "data": {
      "image/png": "[encoded data removed]",
      "text/plain": [
       "<matplotlib.figure.Figure at 0x23faf6a9cf8>"
      ]
     },
     "metadata": {},
     "output_type": "display_data"
    }
   ],
   "source": [
    "# Loop through the classes two at a time and compare their distributions of the Width/Length Ratio\n",
    "\n",
    "#Create a DataFrame object to make subsetting the data on the class \n",
    "df = pd.DataFrame({\"class\": y[:], \"ratio\": X[:, num_features-1]})\n",
    "\n",
    "f = plt.figure(figsize=(30, 20))\n",
    "#we suppress zeros and choose a few large classes to better highlight the distributions.\n",
    "df = df.loc[df[\"ratio\"] > 0]\n",
    "minimumSize = 20 \n",
    "counts = df[\"class\"].value_counts()\n",
    "largeclasses = [int(x) for x in list(counts.loc[counts > minimumSize].index)]\n",
    "# Loop through 40 of the classes \n",
    "for j in range(0,40,2):\n",
    "    subfig = plt.subplot(4, 5, j/2 +1)\n",
    "    # Plot the normalized histograms for two classes\n",
    "    classind1 = largeclasses[j]\n",
    "    classind2 = largeclasses[j+1]\n",
    "    n, bins,p = plt.hist(df.loc[df[\"class\"] == classind1][\"ratio\"].values,\\\n",
    "                         alpha=0.5, bins=[x*0.01 for x in range(100)], \\\n",
    "                         label=namesClasses[classind1].split(os.sep)[-1], normed=1)\n",
    "\n",
    "    n2, bins,p = plt.hist(df.loc[df[\"class\"] == (classind2)][\"ratio\"].values,\\\n",
    "                          alpha=0.5, bins=bins, label=namesClasses[classind2].split(os.sep)[-1],normed=1)\n",
    "    subfig.set_ylim([0.,10.])\n",
    "    plt.legend(loc='upper right')\n",
    "    plt.xlabel(\"Width/Length Ratio\")\n"
   ]
  }
 ],
 "metadata": {
  "kernelspec": {
   "display_name": "py35",
   "language": "python",
   "name": "py35"
  },
  "language_info": {
   "codemirror_mode": {
    "name": "ipython",
    "version": 3
   },
   "file_extension": ".py",
   "mimetype": "text/x-python",
   "name": "python",
   "nbconvert_exporter": "python",
   "pygments_lexer": "ipython3",
   "version": "3.5.4"
  }
 },
 "nbformat": 4,
 "nbformat_minor": 2
}
